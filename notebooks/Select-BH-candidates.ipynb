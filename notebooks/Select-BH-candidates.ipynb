{
 "cells": [
  {
   "cell_type": "code",
   "execution_count": 29,
   "metadata": {},
   "outputs": [],
   "source": [
    "from os import path\n",
    "import os\n",
    "\n",
    "import astropy.coordinates as coord\n",
    "from astropy.constants import G\n",
    "from astropy.io import fits\n",
    "from astropy.table import Table, QTable, join\n",
    "from astropy.time import Time\n",
    "import astropy.units as u\n",
    "import h5py\n",
    "import matplotlib as mpl\n",
    "import matplotlib.pyplot as plt\n",
    "%matplotlib inline\n",
    "import numpy as np\n",
    "from tqdm import tqdm\n",
    "import requests\n",
    "import yaml\n",
    "\n",
    "from hq.config import HQ_CACHE_PATH, config_to_alldata, config_to_jokerparams\n",
    "from hq.plot import plot_two_panel, plot_phase_fold\n",
    "from hq.data import get_rvdata\n",
    "from hq.physics_helpers import period_at_surface, stellar_radius\n",
    "from hq.mass_helpers import get_martig_mass\n",
    "\n",
    "from thejoker.plot import plot_rv_curves\n",
    "from thejoker import JokerSamples, JokerParams, TheJoker\n",
    "\n",
    "from twobody.transforms import get_m2_min"
   ]
  },
  {
   "cell_type": "code",
   "execution_count": 85,
   "metadata": {},
   "outputs": [],
   "source": [
    "plot_path = path.expanduser('~/projects/bh/plots/')\n",
    "data_path = path.expanduser('~/projects/bh/data/')"
   ]
  },
  {
   "cell_type": "code",
   "execution_count": 3,
   "metadata": {},
   "outputs": [],
   "source": [
    "name = 'dr16'"
   ]
  },
  {
   "cell_type": "code",
   "execution_count": 4,
   "metadata": {},
   "outputs": [],
   "source": [
    "joker_f = h5py.File('../cache/{0}/thejoker-samples.hdf5'.format(name), 'r')\n",
    "emcee_f = h5py.File('../cache/{0}/emcee-samples.hdf5'.format(name), 'r')"
   ]
  },
  {
   "cell_type": "code",
   "execution_count": 5,
   "metadata": {},
   "outputs": [],
   "source": [
    "with open(\"../cache/{}/config.yml\".format(name), \"r\") as f:\n",
    "    config = yaml.load(f.read())\n",
    "    \n",
    "allstar, allvisit = config_to_alldata(config)\n",
    "poly_trend = config['hyperparams']['poly_trend']"
   ]
  },
  {
   "cell_type": "code",
   "execution_count": 6,
   "metadata": {},
   "outputs": [],
   "source": [
    "master = QTable.read('../cache/{0}/metadata-master.fits'.format(name))\n",
    "master = join(master, allstar, keys='APOGEE_ID')"
   ]
  },
  {
   "cell_type": "code",
   "execution_count": 7,
   "metadata": {},
   "outputs": [],
   "source": [
    "mass_tbl = Table.read('../data/shite_m1_estimates.fits')\n",
    "_, idx = np.unique(mass_tbl['APOGEE_ID'], return_index=True)\n",
    "mass_tbl = mass_tbl[idx]\n",
    "master = join(master, mass_tbl, keys='APOGEE_ID')"
   ]
  },
  {
   "cell_type": "code",
   "execution_count": 8,
   "metadata": {},
   "outputs": [],
   "source": [
    "gaia = Table.read('../data/allStar-r12-gaiadr2.fits')\n",
    "_, idx = np.unique(gaia['apogee_id'], return_index=True)\n",
    "gaia = gaia[idx]\n",
    "gaia.rename_column('apogee_id', 'APOGEE_ID')\n",
    "master = join(master, gaia, keys='APOGEE_ID')"
   ]
  },
  {
   "cell_type": "code",
   "execution_count": 9,
   "metadata": {},
   "outputs": [
    {
     "data": {
      "text/plain": [
       "154911"
      ]
     },
     "execution_count": 9,
     "metadata": {},
     "output_type": "execute_result"
    }
   ],
   "source": [
    "mask = (((master['STARFLAG'] & np.sum(2**np.array([2, 9]))) == 0) & # BRIGHT_NEIGHBOR, PERSIST_HIGH\n",
    "        ((master['ASPCAPFLAG'] & np.sum(2**np.array([7]))) == 0)) # STAR_WARN\n",
    "t = master[mask]\n",
    "len(t)"
   ]
  },
  {
   "cell_type": "code",
   "execution_count": 10,
   "metadata": {},
   "outputs": [],
   "source": [
    "llr = t['max_unmarginalized_ln_likelihood'] - t['robust_constant_ln_likelihood']"
   ]
  },
  {
   "cell_type": "code",
   "execution_count": 11,
   "metadata": {},
   "outputs": [
    {
     "data": {
      "text/plain": [
       "8477"
      ]
     },
     "execution_count": 11,
     "metadata": {},
     "output_type": "execute_result"
    }
   ],
   "source": [
    "llr_mask = (llr > 4) & (t['max_unmarginalized_ln_likelihood'] > 0) & (np.isfinite(t['m1']))\n",
    "llr_mask.sum()"
   ]
  },
  {
   "cell_type": "code",
   "execution_count": 12,
   "metadata": {},
   "outputs": [],
   "source": [
    "def m_f(P, K, e):\n",
    "    \"\"\"Binary mass function.\"\"\"\n",
    "    mf_circ = P * K**3 / (2*np.pi * G)\n",
    "    return mf_circ.to(u.Msun) * (1 - e**2)**1.5"
   ]
  },
  {
   "cell_type": "markdown",
   "metadata": {},
   "source": [
    "## Select the candidates"
   ]
  },
  {
   "cell_type": "code",
   "execution_count": 60,
   "metadata": {},
   "outputs": [],
   "source": [
    "cool_ids = []\n",
    "for row in tqdm(t[llr_mask]):\n",
    "    apogee_id = row['APOGEE_ID']\n",
    "    m1 = row['m1'] * u.Msun\n",
    "    \n",
    "    if apogee_id in emcee_f.keys():\n",
    "        samples = JokerSamples.from_hdf5(emcee_f[apogee_id], \n",
    "                                         poly_trend=poly_trend)\n",
    "    else:\n",
    "        samples = JokerSamples.from_hdf5(joker_f[apogee_id], \n",
    "                                         poly_trend=poly_trend)\n",
    "    \n",
    "    # data = get_rvdata(allvisit[allvisit['APOGEE_ID'] == apogee_id])\n",
    "    # _ = plot_rv_curves(samples=samples, data=data)\n",
    "    \n",
    "    m2_min = get_m2_min(np.repeat(m1, len(samples)),\n",
    "                        m_f(samples['P'], samples['K'], samples['e']))\n",
    "    \n",
    "    if np.nanpercentile(m2_min.value, 15) * u.Msun > m1 and 0.2 < m1.value < 2.5:\n",
    "        cool_ids.append(apogee_id)"
   ]
  },
  {
   "cell_type": "code",
   "execution_count": 13,
   "metadata": {},
   "outputs": [],
   "source": [
    "# cool_ids = ['2M00163253+8556588', '2M00251183+0137366', '2M00385903-0109499', '2M01415794+8520066', '2M02484723+0719196', '2M03135991+3831519', '2M03454440+2413132', '2M04015112+5316431', '2M04405488+4746463', '2M06185816+4002167', '2M06501711-0547415', '2M08001560+2550021', '2M08024840+4129341', '2M08213897+4559430', '2M08231995-3657095', '2M08511868+1147026', '2M14332948+0958420', '2M14544500+4626456', '2M15074403+3218142', '2M15091513+3143072', '2M15551237+2629107', '2M17021700-2145531', '2M19340471+2632110', '2M20593168+5559227', '2M22001521+5559468']"
   ]
  },
  {
   "cell_type": "code",
   "execution_count": 14,
   "metadata": {},
   "outputs": [
    {
     "name": "stdout",
     "output_type": "stream",
     "text": [
      "['2M00163253+8556588', '2M00251183+0137366', '2M00385903-0109499', '2M01415794+8520066', '2M02484723+0719196', '2M03135991+3831519', '2M03454440+2413132', '2M04015112+5316431', '2M04405488+4746463', '2M06185816+4002167', '2M06501711-0547415', '2M08001560+2550021', '2M08024840+4129341', '2M08213897+4559430', '2M08231995-3657095', '2M08511868+1147026', '2M14332948+0958420', '2M14544500+4626456', '2M15074403+3218142', '2M15091513+3143072', '2M15551237+2629107', '2M17021700-2145531', '2M19340471+2632110', '2M20593168+5559227', '2M22001521+5559468']\n"
     ]
    }
   ],
   "source": [
    "print(cool_ids)"
   ]
  },
  {
   "cell_type": "code",
   "execution_count": 15,
   "metadata": {},
   "outputs": [
    {
     "data": {
      "text/plain": [
       "25"
      ]
     },
     "execution_count": 15,
     "metadata": {},
     "output_type": "execute_result"
    }
   ],
   "source": [
    "len(cool_ids)"
   ]
  },
  {
   "cell_type": "code",
   "execution_count": 89,
   "metadata": {},
   "outputs": [
    {
     "name": "stderr",
     "output_type": "stream",
     "text": [
      "WARNING: UnitsWarning: ''electron'.s**-1' did not parse as fits unit: At col 0, Unit ''electron'' not supported by the FITS standard.  [astropy.units.core]\n",
      "WARNING: UnitsWarning: 'log(cm.s**-2)' did not parse as fits unit: 'log' is not a recognized function [astropy.units.core]\n",
      "WARNING: UnitsWarning: 'dex' did not parse as fits unit: At col 0, Unit 'dex' not supported by the FITS standard.  [astropy.units.core]\n"
     ]
    }
   ],
   "source": [
    "candidates = master[np.isin(master['APOGEE_ID'], cool_ids)]\n",
    "assert len(candidates) == len(cool_ids)\n",
    "Table(candidates).write('../../bh/data/candidates.fits', overwrite=True)"
   ]
  },
  {
   "cell_type": "code",
   "execution_count": null,
   "metadata": {},
   "outputs": [],
   "source": []
  }
 ],
 "metadata": {
  "kernelspec": {
   "display_name": "conda-hq",
   "language": "python",
   "name": "conda-hq"
  },
  "language_info": {
   "codemirror_mode": {
    "name": "ipython",
    "version": 3
   },
   "file_extension": ".py",
   "mimetype": "text/x-python",
   "name": "python",
   "nbconvert_exporter": "python",
   "pygments_lexer": "ipython3",
   "version": "3.6.7"
  }
 },
 "nbformat": 4,
 "nbformat_minor": 2
}
