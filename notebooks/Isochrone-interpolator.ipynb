{
 "cells": [
  {
   "cell_type": "code",
   "execution_count": null,
   "metadata": {},
   "outputs": [],
   "source": [
    "import glob\n",
    "import os\n",
    "\n",
    "from astropy.table import Table\n",
    "from astropy.io import fits\n",
    "import astropy.units as u\n",
    "import matplotlib.pyplot as plt\n",
    "%matplotlib inline\n",
    "import numpy as np\n",
    "from scipy.interpolate import NearestNDInterpolator"
   ]
  },
  {
   "cell_type": "code",
   "execution_count": null,
   "metadata": {},
   "outputs": [],
   "source": [
    "filenames = glob.glob('/Users/apricewhelan/data/Isochrones/MIST/FeH_*_iso.fits')"
   ]
  },
  {
   "cell_type": "code",
   "execution_count": null,
   "metadata": {},
   "outputs": [],
   "source": [
    "Y = None\n",
    "y = None\n",
    "for filename in filenames:\n",
    "    iso = Table.read(filename)\n",
    "    iso = iso[iso['log10_isochrone_age_yr'] == 8.2]\n",
    "    feh = np.repeat(float(os.path.basename(filename).split('_')[1]), len(iso))\n",
    "    YY = np.stack((feh, iso['log_Teff'], iso['log_g']))\n",
    "    \n",
    "    if Y is None:\n",
    "        Y = YY\n",
    "        y = iso['initial_mass']\n",
    "    else:\n",
    "        Y = np.hstack((Y, YY))\n",
    "        y = np.concatenate((y, iso['initial_mass']))\n",
    "\n",
    "Y = Y.T"
   ]
  },
  {
   "cell_type": "code",
   "execution_count": null,
   "metadata": {},
   "outputs": [],
   "source": [
    "interp = NearestNDInterpolator(Y, y)"
   ]
  },
  {
   "cell_type": "code",
   "execution_count": null,
   "metadata": {},
   "outputs": [],
   "source": [
    "tbl = fits.getdata('/Users/apricewhelan/projects/hq/data/allStarLite-r12-l33.fits')"
   ]
  },
  {
   "cell_type": "code",
   "execution_count": null,
   "metadata": {},
   "outputs": [],
   "source": [
    "mask = ((tbl['LOGG'] > 3.5) & (tbl['TEFF'] > 3200) & (tbl['TEFF'] < 7500) & \n",
    "        (tbl['M_H'] > -2.) & (tbl['M_H'] < 0.5))"
   ]
  },
  {
   "cell_type": "code",
   "execution_count": null,
   "metadata": {},
   "outputs": [],
   "source": [
    "X = np.stack((tbl['M_H'], np.log10(tbl['TEFF']), tbl['LOGG'])).T[mask]"
   ]
  },
  {
   "cell_type": "code",
   "execution_count": null,
   "metadata": {},
   "outputs": [],
   "source": [
    "m1 = interp(X)"
   ]
  },
  {
   "cell_type": "code",
   "execution_count": null,
   "metadata": {},
   "outputs": [],
   "source": [
    "plt.hist(m1, bins=np.linspace(0.2, 2.5, 32));\n",
    "# plt.yscale('log')"
   ]
  },
  {
   "cell_type": "code",
   "execution_count": null,
   "metadata": {},
   "outputs": [],
   "source": [
    "plt.figure(figsize=(6, 6))\n",
    "plt.scatter(X[:, 1], X[:, 2], \n",
    "            c=m1, vmin=0.2, vmax=1.5, \n",
    "            linewidth=0, s=4, alpha=0.2)\n",
    "\n",
    "plt.plot(iso['log_Teff'], iso['log_g'])\n",
    "\n",
    "plt.xlim(4, 3.5)\n",
    "plt.ylim(5.5, 3.5)"
   ]
  },
  {
   "cell_type": "code",
   "execution_count": null,
   "metadata": {},
   "outputs": [],
   "source": []
  }
 ],
 "metadata": {
  "kernelspec": {
   "display_name": "Python [conda env:hq]",
   "language": "python",
   "name": "conda-env-hq-py"
  },
  "language_info": {
   "codemirror_mode": {
    "name": "ipython",
    "version": 3
   },
   "file_extension": ".py",
   "mimetype": "text/x-python",
   "name": "python",
   "nbconvert_exporter": "python",
   "pygments_lexer": "ipython3",
   "version": "3.7.3"
  }
 },
 "nbformat": 4,
 "nbformat_minor": 2
}
