{
 "cells": [
  {
   "cell_type": "code",
   "execution_count": null,
   "metadata": {},
   "outputs": [],
   "source": [
    "import matplotlib as mpl\n",
    "import matplotlib.pyplot as plt\n",
    "%matplotlib inline\n",
    "import numpy as np\n",
    "from scipy.stats import multivariate_normal"
   ]
  },
  {
   "cell_type": "code",
   "execution_count": null,
   "metadata": {},
   "outputs": [],
   "source": [
    "ndata = 16\n",
    "npars = 3\n",
    "\n",
    "y = np.random.uniform(size=ndata)\n",
    "M = np.vstack((np.ones((1, ndata)),\n",
    "               np.random.uniform(-1, 1, (npars-1, ndata)))).T\n",
    "C = np.diag(np.exp(np.random.uniform(-1, 0, size=ndata)))\n",
    "Cinv = np.linalg.inv(C)\n",
    "\n",
    "th = np.array([1., 2., 3.])\n",
    "mu = np.random.uniform(size=npars)\n",
    "V = np.diag(np.exp(np.random.uniform(-1, 0, size=npars)))\n",
    "Vinv = np.linalg.inv(V)\n",
    "\n",
    "print(y.shape, M.shape, C.shape)\n",
    "print(th.shape, mu.shape, V.shape)"
   ]
  },
  {
   "cell_type": "code",
   "execution_count": null,
   "metadata": {},
   "outputs": [],
   "source": [
    "norm_y = multivariate_normal(mean=M.dot(th), cov=C)\n",
    "norm_th = multivariate_normal(mean=mu, cov=V)\n",
    "norm_y.logpdf(y) + norm_th.logpdf(th)"
   ]
  },
  {
   "cell_type": "code",
   "execution_count": null,
   "metadata": {},
   "outputs": [],
   "source": [
    "M.T.dot(Cinv).dot(M), Vinv"
   ]
  },
  {
   "cell_type": "code",
   "execution_count": null,
   "metadata": {},
   "outputs": [],
   "source": [
    "np.linalg.cond(M.T.dot(Cinv).dot(M) + Vinv)"
   ]
  },
  {
   "cell_type": "code",
   "execution_count": null,
   "metadata": {},
   "outputs": [],
   "source": [
    "Z = C.dot(M).dot(Vinv).dot(mu)\n",
    "X = C.dot(Cinv + M.dot(Vinv).dot(M.T)).dot(C)\n",
    "\n",
    "Sig = np.linalg.inv(M.T.dot(Cinv).dot(M) + Vinv)\n",
    "phi = Sig.dot(M.T.dot(Cinv).dot(y) + Vinv.dot(mu))"
   ]
  },
  {
   "cell_type": "code",
   "execution_count": null,
   "metadata": {},
   "outputs": [],
   "source": [
    "norm1 = multivariate_normal(mean=phi, cov=Sig)\n",
    "norm2 = multivariate_normal(mean=Z, cov=X)"
   ]
  },
  {
   "cell_type": "code",
   "execution_count": null,
   "metadata": {},
   "outputs": [],
   "source": [
    "norm1.logpdf(th) + norm2.logpdf(y)"
   ]
  },
  {
   "cell_type": "code",
   "execution_count": null,
   "metadata": {},
   "outputs": [],
   "source": []
  },
  {
   "cell_type": "code",
   "execution_count": null,
   "metadata": {},
   "outputs": [],
   "source": []
  }
 ],
 "metadata": {
  "kernelspec": {
   "display_name": "Python [conda env:root] *",
   "language": "python",
   "name": "conda-root-py"
  },
  "language_info": {
   "codemirror_mode": {
    "name": "ipython",
    "version": 3
   },
   "file_extension": ".py",
   "mimetype": "text/x-python",
   "name": "python",
   "nbconvert_exporter": "python",
   "pygments_lexer": "ipython3",
   "version": "3.7.3"
  }
 },
 "nbformat": 4,
 "nbformat_minor": 2
}
