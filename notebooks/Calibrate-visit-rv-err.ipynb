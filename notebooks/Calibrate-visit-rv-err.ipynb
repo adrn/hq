{
 "cells": [
  {
   "cell_type": "code",
   "execution_count": null,
   "metadata": {},
   "outputs": [],
   "source": [
    "import os\n",
    "from os import path\n",
    "\n",
    "# Third-party\n",
    "import astropy.coordinates as coord\n",
    "from astropy.io import ascii\n",
    "from astropy.table import Table, join, hstack, vstack\n",
    "import astropy.units as u\n",
    "import matplotlib as mpl\n",
    "import matplotlib.pyplot as plt\n",
    "import numpy as np\n",
    "%matplotlib inline\n",
    "from astropy.io import fits\n",
    "from thejoker.data import RVData\n",
    "\n",
    "import pystan"
   ]
  },
  {
   "cell_type": "code",
   "execution_count": null,
   "metadata": {},
   "outputs": [],
   "source": [
    "os.makedirs('calibrate-visit-err', exist_ok=True)"
   ]
  },
  {
   "cell_type": "code",
   "execution_count": null,
   "metadata": {},
   "outputs": [],
   "source": [
    "sm = pystan.StanModel('visit-err.stan')"
   ]
  },
  {
   "cell_type": "code",
   "execution_count": null,
   "metadata": {},
   "outputs": [],
   "source": [
    "allstar = fits.getdata('../data/allStarLite-r12-l33.fits')"
   ]
  },
  {
   "cell_type": "code",
   "execution_count": null,
   "metadata": {},
   "outputs": [],
   "source": [
    "allstar_c = coord.SkyCoord(allstar['RA'], allstar['DEC'], unit=u.deg)"
   ]
  },
  {
   "cell_type": "code",
   "execution_count": null,
   "metadata": {},
   "outputs": [],
   "source": [
    "allvisit = fits.getdata('../data/allVisit-r12-l33.fits')"
   ]
  },
  {
   "cell_type": "markdown",
   "metadata": {},
   "source": [
    "## Load exoplanet validation sample:"
   ]
  },
  {
   "cell_type": "code",
   "execution_count": null,
   "metadata": {},
   "outputs": [],
   "source": [
    "exop = Table.read('../data/exoplanets_notbinaries.votable')\n",
    "total_pm = np.sqrt(exop['gaia_pmra']**2 + exop['gaia_pmdec']**2)\n",
    "slow_exo_mask = ((15*total_pm * u.mas).to(u.arcsec) < 5*u.arcsec)\n",
    "exop = exop[slow_exo_mask]"
   ]
  },
  {
   "cell_type": "code",
   "execution_count": null,
   "metadata": {},
   "outputs": [],
   "source": [
    "exo_c = coord.SkyCoord(ra=exop['ra'], dec=exop['dec'])"
   ]
  },
  {
   "cell_type": "code",
   "execution_count": null,
   "metadata": {},
   "outputs": [],
   "source": [
    "idx, sep, _ = exo_c.match_to_catalog_sky(allstar_c)\n",
    "\n",
    "sub_exop = exop[sep < 8*u.arcsec]['pl_hostname', 'pl_rvamp', 'pl_rvamperr1', 'pl_rvamperr2', \n",
    "                                  'hd_name', 'hip_name', 'st_j', 'st_h', 'pl_orbper', 'pl_bmassj']\n",
    "apogee_exo = hstack((Table(allstar[idx[sep < 8*u.arcsec]]), sub_exop))\n",
    "hmask = (np.abs(apogee_exo['H'] - apogee_exo['st_h']) < 1e-2)\n",
    "apogee_exo = apogee_exo[hmask & (apogee_exo['NVISITS'] >= 4) & (apogee_exo['pl_rvamp'] < 50.)]\n",
    "len(apogee_exo)"
   ]
  },
  {
   "cell_type": "markdown",
   "metadata": {},
   "source": [
    "## Load Gaia RV standards validation sample:"
   ]
  },
  {
   "cell_type": "code",
   "execution_count": null,
   "metadata": {},
   "outputs": [],
   "source": [
    "rvs = Table.read(path.expanduser('~/data/GaiaDR2/gaia_dr2_rvs_standards.fit'))\n",
    "rvs['APOGEE_ID'] = ['2M'+x[6:] for x in rvs['_2MASS']]\n",
    "rvs = rvs[(rvs['e_RV'] < 0.05) & (rvs['s_RV'] < 0.05)]"
   ]
  },
  {
   "cell_type": "code",
   "execution_count": null,
   "metadata": {},
   "outputs": [],
   "source": [
    "mask = np.isin(allstar['APOGEE_ID'], rvs['APOGEE_ID'])"
   ]
  },
  {
   "cell_type": "code",
   "execution_count": null,
   "metadata": {},
   "outputs": [],
   "source": [
    "sub_allstar = Table(allstar[mask])"
   ]
  },
  {
   "cell_type": "code",
   "execution_count": null,
   "metadata": {},
   "outputs": [],
   "source": [
    "join_tbl = join(sub_allstar, rvs, keys='APOGEE_ID')\n",
    "join_tbl = join_tbl[join_tbl['NVISITS'] >= 4]\n",
    "len(join_tbl)"
   ]
  },
  {
   "cell_type": "markdown",
   "metadata": {},
   "source": [
    "---\n",
    "\n",
    "## Combine the two validation samples:"
   ]
  },
  {
   "cell_type": "code",
   "execution_count": null,
   "metadata": {},
   "outputs": [],
   "source": [
    "valid_tbl = vstack((join_tbl, apogee_exo))"
   ]
  },
  {
   "cell_type": "code",
   "execution_count": null,
   "metadata": {},
   "outputs": [],
   "source": [
    "visit_mask = np.isin(allvisit['APOGEE_ID'], valid_tbl['APOGEE_ID'])\n",
    "visits = allvisit[visit_mask]"
   ]
  },
  {
   "cell_type": "code",
   "execution_count": null,
   "metadata": {},
   "outputs": [],
   "source": [
    "plt.hist(valid_tbl['VSCATTER'], bins=np.linspace(0, 1, 64));"
   ]
  },
  {
   "cell_type": "code",
   "execution_count": null,
   "metadata": {},
   "outputs": [],
   "source": [
    "_, all_nvisits, idx = np.unique(visits['APOGEE_ID'], \n",
    "                                return_counts=True, return_index=True)"
   ]
  },
  {
   "cell_type": "code",
   "execution_count": null,
   "metadata": {},
   "outputs": [],
   "source": [
    "apogee_ids = np.unique(valid_tbl['APOGEE_ID'])\n",
    "n_stars = len(apogee_ids)\n",
    "print(n_stars)\n",
    "\n",
    "all_nvisits = []\n",
    "rv = []\n",
    "rv_var = []\n",
    "rv_snr = []\n",
    "mean_rv = []\n",
    "for id_ in apogee_ids:\n",
    "    this_visits = visits[(visits['APOGEE_ID'] == id_) & np.isfinite(visits['VHELIO'])]\n",
    "    all_nvisits.append(len(this_visits))\n",
    "    \n",
    "    rv.append(this_visits['VHELIO'])\n",
    "    rv_var.append(this_visits['VRELERR'] ** 2)\n",
    "    rv_snr.append(this_visits['SNR'])\n",
    "    mean_rv.append(np.median(this_visits['VHELIO']))\n",
    "    \n",
    "rv = np.concatenate(rv)\n",
    "rv_var = np.concatenate(rv_var)\n",
    "rv_snr = np.concatenate(rv_snr)"
   ]
  },
  {
   "cell_type": "code",
   "execution_count": null,
   "metadata": {},
   "outputs": [],
   "source": [
    "data = dict()\n",
    "\n",
    "data['n_stars'] = n_stars\n",
    "data['n_visits'] = all_nvisits\n",
    "data['total_n_visits'] = np.sum(all_nvisits)\n",
    "\n",
    "data['rv'] = rv\n",
    "data['rv_var'] = rv_var\n",
    "data['rv_snr'] = rv_snr"
   ]
  },
  {
   "cell_type": "code",
   "execution_count": null,
   "metadata": {},
   "outputs": [],
   "source": [
    "init = dict()\n",
    "\n",
    "init['mean_rv'] = mean_rv\n",
    "init['a'] = 1.\n",
    "init['b'] = -0.5\n",
    "init['lns'] = -2."
   ]
  },
  {
   "cell_type": "code",
   "execution_count": null,
   "metadata": {},
   "outputs": [],
   "source": [
    "fit = sm.optimizing(data=data, init=init, iter=1024)"
   ]
  },
  {
   "cell_type": "code",
   "execution_count": null,
   "metadata": {},
   "outputs": [],
   "source": [
    "fit"
   ]
  },
  {
   "cell_type": "code",
   "execution_count": null,
   "metadata": {},
   "outputs": [],
   "source": [
    "def get_inflation_factor(fit, snr):\n",
    "    # return fit['a'] + fit['b'] * snr + fit['c'] * snr**2\n",
    "    # return fit['a'] * snr**fit['b']\n",
    "    return fit['a'] * snr**fit['b'] + fit['c'] * snr**fit['d']\n",
    "\n",
    "def get_new_err(fit, visits):\n",
    "    err = visits['VRELERR']\n",
    "    snr = visits['SNR']\n",
    "    return np.sqrt(fit['s']**2 + err**2 + fit['a']*snr**fit['b'])\n",
    "\n",
    "def get_nidever_err(visits):\n",
    "    err = visits['VRELERR']\n",
    "    var = (3.5*err**1.2)**2 + 0.072**2\n",
    "    return np.sqrt(var)"
   ]
  },
  {
   "cell_type": "code",
   "execution_count": null,
   "metadata": {},
   "outputs": [],
   "source": [
    "# snr = np.linspace(1, 500, 1024)\n",
    "# plt.plot(snr, np.sqrt(get_inflation_factor(fit, snr)))\n",
    "# plt.xlim(0, 500)\n",
    "# plt.ylim(0, 10)"
   ]
  },
  {
   "cell_type": "code",
   "execution_count": null,
   "metadata": {},
   "outputs": [],
   "source": [
    "_, bins, _ = plt.hist(allvisit['SNR'][np.isfinite(allvisit['SNR'])], \n",
    "                      bins=np.linspace(0, 1035, 128));\n",
    "plt.hist(visits['SNR'], bins=bins)\n",
    "plt.yscale('log')"
   ]
  },
  {
   "cell_type": "code",
   "execution_count": null,
   "metadata": {},
   "outputs": [],
   "source": [
    "fig, ax = plt.subplots(1, 1, figsize=(8, 6))\n",
    "ax.plot(allvisit['SNR'], allvisit['VRELERR'], \n",
    "        marker=',', color='k', alpha=0.2, ls='none',\n",
    "        rasterized=True)\n",
    "fig.tight_layout()\n",
    "ax.set_xlim(1e0, 1e3)\n",
    "ax.set_ylim(1e-3, 2e1)\n",
    "ax.set_xscale('log')\n",
    "ax.set_yscale('log')\n",
    "\n",
    "ax.set_xlabel('SNR')\n",
    "ax.set_ylabel('VRELERR [{:latex_inline}]'.format(u.km/u.s))\n",
    "\n",
    "fig.tight_layout()\n",
    "\n",
    "fig.savefig('calibrate-visit-err/calib-err-snr.pdf', dpi=250)"
   ]
  },
  {
   "cell_type": "code",
   "execution_count": null,
   "metadata": {},
   "outputs": [],
   "source": [
    "fig, ax = plt.subplots(1, 1, figsize=(6, 4))\n",
    "\n",
    "new_err = get_new_err(fit, allvisit)\n",
    "ax.plot(allvisit['SNR'], new_err, \n",
    "        marker=',', color='k', alpha=0.2, ls='none',\n",
    "        rasterized=True)\n",
    "fig.tight_layout()\n",
    "\n",
    "ax.set_xlim(1e0, 1e3)\n",
    "ax.set_ylim(1e-3, 2e1)\n",
    "\n",
    "ax.set_xscale('log')\n",
    "ax.set_yscale('log')\n",
    "\n",
    "ax.axhline(fit['s'], color='tab:blue', marker='', lw=1)\n",
    "ax.text(1.5, 0.8*fit['s'], '{:.3f} {:latex_inline}'.format(fit['s'], u.km/u.s), \n",
    "        va='top', color='tab:blue', fontsize=22)\n",
    "\n",
    "ax.set_xlabel('SNR')\n",
    "ax.set_ylabel('adjusted err [{:latex_inline}]'.format(u.km/u.s))\n",
    "\n",
    "fig.tight_layout()\n",
    "\n",
    "fig.savefig('calibrate-visit-err/calib-adj-err-snr.pdf', dpi=250)"
   ]
  },
  {
   "cell_type": "code",
   "execution_count": null,
   "metadata": {},
   "outputs": [],
   "source": [
    "fig, ax = plt.subplots(1, 1, figsize=(6, 4))\n",
    "\n",
    "nid_err = get_nidever_err(allvisit)\n",
    "ax.plot(allvisit['SNR'], nid_err, \n",
    "        marker=',', color='k', alpha=0.2, ls='none',\n",
    "        rasterized=True)\n",
    "fig.tight_layout()\n",
    "\n",
    "ax.set_xlim(1e0, 1e3)\n",
    "ax.set_ylim(1e-3, 2e1)\n",
    "\n",
    "ax.set_xscale('log')\n",
    "ax.set_yscale('log')\n",
    "\n",
    "ax.set_xlabel('SNR')\n",
    "ax.set_ylabel('adjusted err [{:latex_inline}]'.format(u.km/u.s))\n",
    "\n",
    "fig.tight_layout()\n",
    "\n",
    "fig.savefig('calibrate-visit-err/nidever-adj-err.pdf', dpi=250)"
   ]
  },
  {
   "cell_type": "markdown",
   "metadata": {},
   "source": [
    "---"
   ]
  },
  {
   "cell_type": "code",
   "execution_count": null,
   "metadata": {},
   "outputs": [],
   "source": [
    "for id_ in apogee_ids[20:]:\n",
    "    this_visits = visits[(visits['APOGEE_ID'] == id_) & np.isfinite(visits['VHELIO'])]\n",
    "    \n",
    "    snr = this_visits['SNR']\n",
    "    infl_err = get_new_err(fit, this_visits)\n",
    "    \n",
    "    fig, ax = plt.subplots(1, 1, figsize=(8, 6))\n",
    "    ax.errorbar(snr, this_visits['VHELIO'], infl_err,\n",
    "                marker='', ecolor='#aaaaaa', zorder=-100, ls='none')\n",
    "    ax.plot(snr, this_visits['VHELIO'],\n",
    "            marker='o', ls='none', color='k')"
   ]
  },
  {
   "cell_type": "code",
   "execution_count": null,
   "metadata": {},
   "outputs": [],
   "source": []
  },
  {
   "cell_type": "code",
   "execution_count": null,
   "metadata": {},
   "outputs": [],
   "source": []
  }
 ],
 "metadata": {
  "kernelspec": {
   "display_name": "Python [conda env:hq]",
   "language": "python",
   "name": "conda-env-hq-py"
  },
  "language_info": {
   "codemirror_mode": {
    "name": "ipython",
    "version": 3
   },
   "file_extension": ".py",
   "mimetype": "text/x-python",
   "name": "python",
   "nbconvert_exporter": "python",
   "pygments_lexer": "ipython3",
   "version": "3.7.3"
  }
 },
 "nbformat": 4,
 "nbformat_minor": 2
}
