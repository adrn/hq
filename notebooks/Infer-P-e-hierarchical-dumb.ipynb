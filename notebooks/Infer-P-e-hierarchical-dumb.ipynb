{
 "cells": [
  {
   "cell_type": "code",
   "execution_count": null,
   "metadata": {},
   "outputs": [],
   "source": [
    "%load_ext autoreload\n",
    "%autoreload 2"
   ]
  },
  {
   "cell_type": "code",
   "execution_count": null,
   "metadata": {},
   "outputs": [],
   "source": [
    "from os import path\n",
    "import os\n",
    "\n",
    "import astropy.coordinates as coord\n",
    "from astropy.constants import G\n",
    "from astropy.io import fits\n",
    "from astropy.table import Table, QTable, join\n",
    "import astropy.units as u\n",
    "import matplotlib as mpl\n",
    "import matplotlib.pyplot as plt\n",
    "%matplotlib inline\n",
    "import numpy as np\n",
    "from tqdm import tqdm\n",
    "import emcee\n",
    "import yaml\n",
    "\n",
    "from hq.config import HQ_CACHE_PATH, config_to_alldata\n",
    "from hq.plot import plot_two_panel, plot_phase_fold\n",
    "from hq.data import get_rvdata\n",
    "from hq.physics_helpers import period_at_surface, stellar_radius\n",
    "\n",
    "from thejoker.plot import plot_rv_curves\n",
    "from thejoker import JokerSamples, JokerParams, TheJoker\n",
    "\n",
    "from scipy.special import logsumexp\n",
    "from scipy.stats import beta, truncnorm\n",
    "from scipy.optimize import minimize\n",
    "\n",
    "%aimport -numpy, scipy, astropy, tqdm, emcee"
   ]
  },
  {
   "cell_type": "code",
   "execution_count": null,
   "metadata": {},
   "outputs": [],
   "source": [
    "HQ_CACHE_PATH = '/Users/apricewhelan/projects/hq/cache'"
   ]
  },
  {
   "cell_type": "code",
   "execution_count": null,
   "metadata": {},
   "outputs": [],
   "source": [
    "samples_path = path.join(HQ_CACHE_PATH, 'dr16/samples')\n",
    "metadata = QTable.read(path.join(HQ_CACHE_PATH, 'dr16/metadata-master.fits'))\n",
    "\n",
    "with open(path.join(HQ_CACHE_PATH, \"dr16/config.yml\"), \"r\") as f:\n",
    "    config = yaml.safe_load(f.read())\n",
    "allstar, allvisit = config_to_alldata(config)"
   ]
  },
  {
   "cell_type": "code",
   "execution_count": null,
   "metadata": {},
   "outputs": [],
   "source": [
    "metadata = join(metadata, allstar, keys='APOGEE_ID')"
   ]
  },
  {
   "cell_type": "markdown",
   "metadata": {},
   "source": [
    "As an initial demonstration, select a good pixel in the HR diagram and only run in there:"
   ]
  },
  {
   "cell_type": "code",
   "execution_count": null,
   "metadata": {},
   "outputs": [],
   "source": [
    "bins = (np.arange(3500, 7000+1e-3, 500),\n",
    "        np.arange(0, 5.5+1e-3, 0.4))\n",
    "H, xe, ye = np.histogram2d(allstar['TEFF'], allstar['LOGG'],\n",
    "                           bins=bins)\n",
    "H[H < 64] = np.nan\n",
    "\n",
    "fig, ax = plt.subplots(1, 1, figsize=(7, 6))\n",
    "im = ax.pcolormesh(xe, ye, H.T, norm=mpl.colors.LogNorm())\n",
    "# cell = [4750, 2.6]\n",
    "cell = [5750, 3.8]\n",
    "# cell = [4750, 4.6]\n",
    "ax.scatter(*cell)\n",
    "ax.set_xlim(bins[0].max(), bins[0].min())\n",
    "ax.set_ylim(bins[1].max(), bins[1].min())\n",
    "\n",
    "ax.set_xlabel(r'$T_{\\rm eff}$ [K]')\n",
    "ax.set_ylabel(r'$\\log g$')\n",
    "\n",
    "fig.set_facecolor('w')"
   ]
  },
  {
   "cell_type": "code",
   "execution_count": null,
   "metadata": {},
   "outputs": [],
   "source": [
    "from hq.hierarchical.period_ecc import Model"
   ]
  },
  {
   "cell_type": "code",
   "execution_count": null,
   "metadata": {},
   "outputs": [],
   "source": [
    "B1 = beta(1.5, 50.)\n",
    "B2 = beta(1, 1.8)"
   ]
  },
  {
   "cell_type": "code",
   "execution_count": null,
   "metadata": {},
   "outputs": [],
   "source": [
    "ijs = []\n",
    "reses = []\n",
    "for i, (T1, T2) in enumerate(zip(xe[:-1], xe[1:])):\n",
    "    for j, (l1, l2) in enumerate(zip(ye[:-1], ye[1:])):        \n",
    "        pixel_mask = ((metadata['TEFF'] > T1) & (metadata['TEFF'] <= T2) & \n",
    "                      (metadata['LOGG'] > l1) & (metadata['LOGG'] <= l2))\n",
    "        llr_mask = (metadata['max_unmarginalized_ln_likelihood'] - metadata['robust_constant_ln_likelihood']) > 8\n",
    "        mask = (pixel_mask & llr_mask & \n",
    "                (metadata['unimodal'] | (metadata['joker_completed'] & (metadata['n_visits'] >= 8))))\n",
    "        \n",
    "        if mask.sum() < 64:\n",
    "            continue\n",
    "        \n",
    "        # Load the samples:\n",
    "        NSAMPLES = 256\n",
    "        ez_samples = np.full((2, mask.sum(), NSAMPLES), np.nan)\n",
    "        for n, apogee_id in enumerate(metadata[mask]['APOGEE_ID']):\n",
    "            filename = path.join(samples_path, apogee_id[:4],\n",
    "                                 '{}.fits.gz'.format(apogee_id))\n",
    "            t = fits.getdata(filename)\n",
    "            K = min(NSAMPLES, len(t))\n",
    "            ez_samples[0, n, :K] = t['e'][:K]\n",
    "            ez_samples[1, n, :K] = np.log(t['P'][:K])\n",
    "        \n",
    "        K_n = np.isfinite(ez_samples[0]).sum(axis=-1)\n",
    "        K_n_mask = K_n > 32\n",
    "        \n",
    "        ln_e_p0 = beta.logpdf(ez_samples[0], a=0.867, b=3.03)\n",
    "        ln_z_p0 = np.full_like(ez_samples[1], \n",
    "                               -np.log(np.log(65536) - np.log(2)))\n",
    "        ln_p0_ez = np.stack((ln_e_p0, ln_z_p0))\n",
    "        \n",
    "        # for nulling out the probability for non-existing samples\n",
    "        nan_mask = np.zeros_like(ez_samples)\n",
    "        nan_mask[np.isnan(ez_samples)] = -np.inf\n",
    "        \n",
    "        mod = Model(ez_samples, K_n, ln_p0_ez, B1=B1, B2=B2)\n",
    "        p0 = mod.pack_pars({'lnk': 0., 'z0': np.log(30.), 'alpha0': 0.2,\n",
    "                            'muz': np.log(100), 'lnsigz': np.log(4.)})\n",
    "        if not np.isfinite(mod(p0)):\n",
    "            continue\n",
    "        \n",
    "        res = minimize(lambda *args: -mod(*args), x0=p0, method='powell')\n",
    "        reses.append(res)\n",
    "        \n",
    "        ijs.append([i, j])\n",
    "        print(i, j)"
   ]
  },
  {
   "cell_type": "code",
   "execution_count": null,
   "metadata": {},
   "outputs": [],
   "source": [
    "mod.unpack_pars(res.x)"
   ]
  },
  {
   "cell_type": "code",
   "execution_count": null,
   "metadata": {},
   "outputs": [],
   "source": [
    "lnval_fit = np.sum(mod.ln_ze_dens(mod.unpack_pars(res.x), ee, zz), axis=0)\n",
    "\n",
    "fig, axes = plt.subplots(1, 2, figsize=(10, 5))\n",
    "axes[0].pcolormesh(zz, ee, lnval_fit)\n",
    "axes[1].pcolormesh(zz, ee, np.exp(lnval_fit))\n",
    "\n",
    "axes[0].set_xlabel(r'$\\ln P$')\n",
    "axes[0].set_ylabel(r'$e$')\n",
    "axes[1].set_xlabel(r'$z = \\ln P$')\n",
    "\n",
    "axes[0].set_title(r'$\\ln P(e, z)$')\n",
    "axes[1].set_title(r'$P(e, z)$')\n",
    "\n",
    "fig.tight_layout()"
   ]
  },
  {
   "cell_type": "code",
   "execution_count": null,
   "metadata": {},
   "outputs": [],
   "source": [
    "e_lnw, z_lnw = mod.get_lnweights(mod.unpack_pars(res.x))\n",
    "\n",
    "e_w = np.exp(e_lnw)\n",
    "z_w = np.exp(z_lnw)\n",
    "\n",
    "wi = e_w / np.sum(e_w, axis=1)[:, None]\n",
    "K_eff_e = 1 / np.sum(wi**2, axis=1)\n",
    "\n",
    "wi = z_w / np.sum(z_w, axis=1)[:, None]\n",
    "K_eff_z = 1 / np.sum(wi**2, axis=1)"
   ]
  },
  {
   "cell_type": "code",
   "execution_count": null,
   "metadata": {},
   "outputs": [],
   "source": [
    "fig = plt.figure()\n",
    "plt.hist(K_eff_e)\n",
    "plt.xlabel('effective sample size')\n",
    "fig.set_facecolor('w')"
   ]
  },
  {
   "cell_type": "markdown",
   "metadata": {},
   "source": [
    "---"
   ]
  },
  {
   "cell_type": "code",
   "execution_count": null,
   "metadata": {},
   "outputs": [],
   "source": [
    "from schwimmbad import MultiPool"
   ]
  },
  {
   "cell_type": "code",
   "execution_count": null,
   "metadata": {},
   "outputs": [],
   "source": [
    "nparams = len(res.x)\n",
    "nwalkers = 8 * nparams\n",
    "all_p0 = emcee.utils.sample_ball(p0, [1e-3] * nparams, size=nwalkers)\n",
    "nwalkers"
   ]
  },
  {
   "cell_type": "code",
   "execution_count": null,
   "metadata": {},
   "outputs": [],
   "source": [
    "with MultiPool() as pool:\n",
    "    sampler = emcee.EnsembleSampler(nwalkers=nwalkers, \n",
    "                                    ndim=nparams, \n",
    "                                    log_prob_fn=mod, \n",
    "                                    pool=pool)\n",
    "    _ = sampler.run_mcmc(all_p0, 512, progress=True)"
   ]
  },
  {
   "cell_type": "code",
   "execution_count": null,
   "metadata": {},
   "outputs": [],
   "source": [
    "fig, axes = plt.subplots(nparams, 1, figsize=(8, 4*nparams), \n",
    "                         sharex=True)\n",
    "\n",
    "for k in range(sampler.chain.shape[-1]):\n",
    "    for walker in sampler.chain[..., k]:\n",
    "        axes[k].plot(walker, marker='', \n",
    "                     drawstyle='steps-mid', alpha=0.4, color='k')        \n",
    "fig.tight_layout()"
   ]
  },
  {
   "cell_type": "code",
   "execution_count": null,
   "metadata": {},
   "outputs": [],
   "source": [
    "pp = mod.unpack_pars(sampler.chain[0, -1])"
   ]
  },
  {
   "cell_type": "code",
   "execution_count": null,
   "metadata": {},
   "outputs": [],
   "source": [
    "zgrid = np.linspace(mod._zlim[0], mod._zlim[1], 252)\n",
    "egrid = np.linspace(0, 1, 256)\n",
    "zz, ee = np.meshgrid(zgrid, egrid)\n",
    "\n",
    "lnval_init = np.sum(mod.ln_ze_dens(mod.unpack_pars(p0), ee, zz), axis=0)\n",
    "lnval_min = np.sum(mod.ln_ze_dens(mod.unpack_pars(res.x), ee, zz), axis=0)\n",
    "lnval_emcee = np.sum(mod.ln_ze_dens(pp, ee, zz), axis=0)"
   ]
  },
  {
   "cell_type": "code",
   "execution_count": null,
   "metadata": {},
   "outputs": [],
   "source": [
    "fig, axes = plt.subplots(1, 3, figsize=(15, 5), sharex=True, sharey=True)\n",
    "axes[0].pcolormesh(zz, ee, lnval_init)\n",
    "axes[1].pcolormesh(zz, ee, lnval_min)\n",
    "axes[2].pcolormesh(zz, ee, lnval_emcee)\n",
    "fig.tight_layout()\n",
    "\n",
    "fig, axes = plt.subplots(1, 3, figsize=(15, 5), sharex=True, sharey=True)\n",
    "axes[0].pcolormesh(zz, ee, np.exp(lnval_init))\n",
    "axes[1].pcolormesh(zz, ee, np.exp(lnval_min))\n",
    "axes[2].pcolormesh(zz, ee, np.exp(lnval_emcee))\n",
    "fig.tight_layout()"
   ]
  },
  {
   "cell_type": "code",
   "execution_count": null,
   "metadata": {},
   "outputs": [],
   "source": [
    "fig, ax = plt.subplots(1, 1, figsize=(5, 5))\n",
    "# ax.plot(ez_samples[1].T, ez_samples[0].T, \n",
    "ax.plot(ez_samples[1, :, 0], ez_samples[0, :, 0], \n",
    "        marker='o', ls='none', alpha=0.4);\n",
    "ax.set_xlim(zgrid.min(), zgrid.max())\n",
    "ax.set_ylim(0, 1)"
   ]
  },
  {
   "cell_type": "code",
   "execution_count": null,
   "metadata": {},
   "outputs": [],
   "source": [
    "plt.hist(ez_samples[0, :, 0], bins=np.linspace(0, 1, 32));\n",
    "plt.plot(egrid, np.exp(lnval_emcee).sum(axis=1))"
   ]
  },
  {
   "cell_type": "code",
   "execution_count": null,
   "metadata": {},
   "outputs": [],
   "source": []
  },
  {
   "cell_type": "code",
   "execution_count": null,
   "metadata": {},
   "outputs": [],
   "source": []
  }
 ],
 "metadata": {
  "kernelspec": {
   "display_name": "Python [conda env:hq]",
   "language": "python",
   "name": "conda-env-hq-py"
  },
  "language_info": {
   "codemirror_mode": {
    "name": "ipython",
    "version": 3
   },
   "file_extension": ".py",
   "mimetype": "text/x-python",
   "name": "python",
   "nbconvert_exporter": "python",
   "pygments_lexer": "ipython3",
   "version": "3.6.8"
  }
 },
 "nbformat": 4,
 "nbformat_minor": 2
}
