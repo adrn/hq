{
 "cells": [
  {
   "cell_type": "code",
   "execution_count": null,
   "metadata": {},
   "outputs": [],
   "source": [
    "%load_ext autoreload\n",
    "%autoreload 2"
   ]
  },
  {
   "cell_type": "code",
   "execution_count": null,
   "metadata": {},
   "outputs": [],
   "source": [
    "from os import path\n",
    "import os\n",
    "\n",
    "import astropy.coordinates as coord\n",
    "from astropy.constants import G\n",
    "from astropy.io import fits\n",
    "from astropy.table import Table, QTable, join\n",
    "import astropy.units as u\n",
    "import matplotlib as mpl\n",
    "import matplotlib.pyplot as plt\n",
    "%matplotlib inline\n",
    "import numpy as np\n",
    "from tqdm import tqdm\n",
    "import yaml\n",
    "\n",
    "import emcee\n",
    "\n",
    "from hq.config import HQ_CACHE_PATH, config_to_alldata, config_to_jokerparams\n",
    "from hq.plot import plot_two_panel, plot_phase_fold\n",
    "from hq.data import get_rvdata\n",
    "from hq.physics_helpers import period_at_surface, stellar_radius\n",
    "\n",
    "from thejoker.plot import plot_rv_curves\n",
    "from thejoker import JokerSamples, JokerParams, TheJoker\n",
    "\n",
    "from scipy.special import logsumexp\n",
    "from scipy.stats import beta, truncnorm\n",
    "from scipy.optimize import minimize\n",
    "\n",
    "%aimport -numpy, scipy, astropy, tqdm, emcee"
   ]
  },
  {
   "cell_type": "code",
   "execution_count": null,
   "metadata": {},
   "outputs": [],
   "source": [
    "samples_path = path.join(HQ_CACHE_PATH, 'dr16/samples')\n",
    "metadata = QTable.read(path.join(HQ_CACHE_PATH, 'dr16/metadata-master.fits'))\n",
    "\n",
    "with open(path.join(HQ_CACHE_PATH, \"dr16/config.yml\"), \"r\") as f:\n",
    "    config = yaml.load(f.read())\n",
    "allstar, allvisit = config_to_alldata(config)"
   ]
  },
  {
   "cell_type": "code",
   "execution_count": null,
   "metadata": {},
   "outputs": [],
   "source": [
    "metadata = join(metadata, allstar, keys='APOGEE_ID')"
   ]
  },
  {
   "cell_type": "markdown",
   "metadata": {},
   "source": [
    "As an initial demonstration, select a good pixel in the HR diagram and only run in there:"
   ]
  },
  {
   "cell_type": "code",
   "execution_count": null,
   "metadata": {},
   "outputs": [],
   "source": [
    "bins = (np.arange(3500, 7000+1e-3, 500),\n",
    "        np.arange(0, 5.5+1e-3, 0.4))\n",
    "H, xe, ye = np.histogram2d(allstar['TEFF'], allstar['LOGG'],\n",
    "                           bins=bins)\n",
    "H[H < 64] = np.nan\n",
    "\n",
    "fig, ax = plt.subplots(1, 1, figsize=(7, 6))\n",
    "im = ax.pcolormesh(xe, ye, H.T, norm=mpl.colors.LogNorm())\n",
    "cell = [4750, 2.6]\n",
    "# cell = [4750, 4.6]\n",
    "ax.scatter(*cell)\n",
    "ax.set_xlim(bins[0].max(), bins[0].min())\n",
    "ax.set_ylim(bins[1].max(), bins[1].min())\n",
    "\n",
    "ax.set_xlabel(r'$T_{\\rm eff}$ [K]')\n",
    "ax.set_ylabel(r'$\\log g$')\n",
    "\n",
    "fig.set_facecolor('w')"
   ]
  },
  {
   "cell_type": "code",
   "execution_count": null,
   "metadata": {},
   "outputs": [],
   "source": [
    "pixel_mask = ((np.abs(metadata['TEFF'] - cell[0]) < 500) & \n",
    "              (np.abs(metadata['LOGG'] - cell[1]) < 0.2))\n",
    "llr_mask = (metadata['max_unmarginalized_ln_likelihood'] - metadata['robust_constant_ln_likelihood']) > 8\n",
    "mask = (pixel_mask & llr_mask & \n",
    "        (metadata['unimodal'] | (metadata['joker_completed'] & (metadata['n_visits'] >= 8))))\n",
    "#          ((metadata['n_visits'] >= 8) & metadata['joker_completed'] & (metadata['SNR'] > 250))))\n",
    "pixel_mask.sum(), mask.sum()"
   ]
  },
  {
   "cell_type": "code",
   "execution_count": null,
   "metadata": {},
   "outputs": [],
   "source": [
    "fig, ax = plt.subplots()\n",
    "ax.scatter(metadata['MAP_P'][mask], # & metadata['unimodal']], \n",
    "           metadata['MAP_e'][mask], # & metadata['unimodal']],\n",
    "           alpha=0.2) \n",
    "ax.set_xscale('log')"
   ]
  },
  {
   "cell_type": "code",
   "execution_count": null,
   "metadata": {},
   "outputs": [],
   "source": [
    "# for apogee_id in metadata[mask]['APOGEE_ID'][(metadata[mask]['MAP_P'] < 200*u.day) & (metadata[mask]['MAP_P'] > 100*u.day) & (metadata[mask]['MAP_e'] < 0.05)][:5]:\n",
    "#     filename = path.join(samples_path, apogee_id[:4],\n",
    "#                          '{}.fits.gz'.format(apogee_id))\n",
    "#     samples = JokerSamples.from_table(filename) \n",
    "\n",
    "#     _visits = allvisit[allvisit['APOGEE_ID'] == apogee_id]\n",
    "#     data = get_rvdata(_visits)\n",
    "#     fig = plot_two_panel(data, samples, title='{}'.format(apogee_id))"
   ]
  },
  {
   "cell_type": "markdown",
   "metadata": {},
   "source": [
    "Load all samples for the pixel:"
   ]
  },
  {
   "cell_type": "code",
   "execution_count": null,
   "metadata": {},
   "outputs": [],
   "source": [
    "NSAMPLES = 256"
   ]
  },
  {
   "cell_type": "code",
   "execution_count": null,
   "metadata": {},
   "outputs": [],
   "source": [
    "ez_samples = np.full((2, mask.sum(), NSAMPLES), np.nan)\n",
    "for n, apogee_id in tqdm(enumerate(metadata[mask]['APOGEE_ID']), \n",
    "                         total=mask.sum()):\n",
    "    filename = path.join(samples_path, apogee_id[:4],\n",
    "                         '{}.fits.gz'.format(apogee_id))\n",
    "    t = fits.getdata(filename)\n",
    "    K = min(NSAMPLES, len(t))\n",
    "    ez_samples[0, n, :K] = t['e'][:K]\n",
    "    ez_samples[1, n, :K] = np.log(t['P'][:K])"
   ]
  },
  {
   "cell_type": "code",
   "execution_count": null,
   "metadata": {},
   "outputs": [],
   "source": [
    "B1 = beta(1.5, 50.)\n",
    "B2 = beta(1, 1.8)"
   ]
  },
  {
   "cell_type": "code",
   "execution_count": null,
   "metadata": {},
   "outputs": [],
   "source": [
    "# FAKE = True\n",
    "FAKE = False"
   ]
  },
  {
   "cell_type": "markdown",
   "metadata": {},
   "source": [
    "---\n",
    "\n",
    "# FAKE DATA"
   ]
  },
  {
   "cell_type": "code",
   "execution_count": null,
   "metadata": {},
   "outputs": [],
   "source": [
    "if FAKE:\n",
    "    true_pars = {'k': 2., 'z0': 5.1, 'alpha0': 0.4, \n",
    "                 'muz': 6.523, 'lnsigz': np.log(1.545)}\n",
    "\n",
    "    mod = Model([0., 0.], [1], None, B1=B1, B2=B2)\n",
    "    zgrid = np.linspace(mod._zlim[0], mod._zlim[1], 1024)\n",
    "    egrid = np.linspace(0, 1, 1024)\n",
    "    zz, ee = np.meshgrid(zgrid, egrid)\n",
    "    _val = np.exp(np.sum(mod.ln_ze_dens(true_pars, ee, zz), axis=0))\n",
    "    max_val = _val[np.isfinite(_val)].max()"
   ]
  },
  {
   "cell_type": "code",
   "execution_count": null,
   "metadata": {},
   "outputs": [],
   "source": [
    "if FAKE:\n",
    "    sim_n_requested = 255\n",
    "    _N = 10000\n",
    "    trial_e = np.random.uniform(0, 1, size=_N)\n",
    "    trial_z = np.random.uniform(*mod._zlim, size=_N)\n",
    "    trial_y = np.random.uniform(0, max_val, size=_N)\n",
    "    trial_mask = trial_y < np.exp(np.sum(mod.ln_ze_dens(true_pars, trial_e, trial_z), axis=0))\n",
    "    assert trial_mask.sum() > sim_n_requested\n",
    "\n",
    "    sim_e = trial_e[trial_mask][:sim_n_requested]\n",
    "    sim_z = trial_z[trial_mask][:sim_n_requested]\n",
    "\n",
    "    sim_e = np.random.normal(sim_e, 1e-3, size=(NSAMPLES, len(sim_e))).T\n",
    "    sim_z = np.random.normal(sim_z, 1e-3, size=(NSAMPLES, len(sim_z))).T\n",
    "\n",
    "    ez_samples = np.stack((sim_e, sim_z))"
   ]
  },
  {
   "cell_type": "markdown",
   "metadata": {},
   "source": [
    "---"
   ]
  },
  {
   "cell_type": "code",
   "execution_count": null,
   "metadata": {},
   "outputs": [],
   "source": [
    "fig, axes = plt.subplots(1, 2, figsize=(10, 5), \n",
    "                         sharex=True, sharey=True)\n",
    "\n",
    "axes[0].plot(ez_samples[1].T, ez_samples[0].T, \n",
    "             marker='o', ls='none', alpha=0.1, ms=2, mew=0);\n",
    "axes[1].plot(ez_samples[1, :, -1], ez_samples[0, :, -1], \n",
    "             marker='o', ls='none', alpha=0.4, ms=2, mew=0);\n",
    "\n",
    "# ax.set_xlim(zgrid.min(), zgrid.max())\n",
    "ax.set_ylim(0, 1)"
   ]
  },
  {
   "cell_type": "markdown",
   "metadata": {},
   "source": [
    "Number of samples for each star:"
   ]
  },
  {
   "cell_type": "code",
   "execution_count": null,
   "metadata": {},
   "outputs": [],
   "source": [
    "K_n = np.isfinite(ez_samples[0]).sum(axis=-1)\n",
    "K_n_mask = K_n > 32\n",
    "(~K_n_mask).sum()"
   ]
  },
  {
   "cell_type": "code",
   "execution_count": null,
   "metadata": {},
   "outputs": [],
   "source": [
    "# for apogee_id in metadata[mask]['APOGEE_ID'][~K_n_mask]:\n",
    "#     filename = path.join(samples_path, apogee_id[:4],\n",
    "#                          '{}.fits.gz'.format(apogee_id))\n",
    "#     samples = JokerSamples.from_table(filename) \n",
    "\n",
    "#     _visits = allvisit[allvisit['APOGEE_ID'] == apogee_id]\n",
    "#     data = get_rvdata(_visits)\n",
    "#     fig = plot_two_panel(data, samples, title='{}'.format(apogee_id))"
   ]
  },
  {
   "cell_type": "markdown",
   "metadata": {},
   "source": [
    "Re-compute the prior probability at the location of each sample:"
   ]
  },
  {
   "cell_type": "code",
   "execution_count": null,
   "metadata": {},
   "outputs": [],
   "source": [
    "ln_e_p0 = beta.logpdf(ez_samples[0], a=0.867, b=3.03)\n",
    "ln_z_p0 = np.full_like(ez_samples[1], \n",
    "                       -np.log(np.log(65536) - np.log(2)))\n",
    "ln_p0_ez = np.stack((ln_e_p0, ln_z_p0))"
   ]
  },
  {
   "cell_type": "markdown",
   "metadata": {},
   "source": [
    "For nulling out the probability for samples that don't exist:"
   ]
  },
  {
   "cell_type": "code",
   "execution_count": null,
   "metadata": {},
   "outputs": [],
   "source": [
    "# for nulling out the probability for non-existing samples\n",
    "nan_mask = np.zeros_like(ez_samples)\n",
    "nan_mask[np.isnan(ez_samples)] = -np.inf"
   ]
  },
  {
   "cell_type": "markdown",
   "metadata": {},
   "source": [
    "Class for evaluating the log-posterior of the hierarchical model:"
   ]
  },
  {
   "cell_type": "code",
   "execution_count": null,
   "metadata": {},
   "outputs": [],
   "source": [
    "from hq.hierarchical.period_ecc import Model"
   ]
  },
  {
   "cell_type": "code",
   "execution_count": null,
   "metadata": {},
   "outputs": [],
   "source": [
    "mod = Model(ez_samples, K_n, ln_p0_ez, B1=B1, B2=B2)\n",
    "# p0 = mod.pack_pars({'k': 1., 'z0': np.log(30.), 'alpha0': 0.2,\n",
    "p0 = mod.pack_pars({'lnk': 0., 'z0': np.log(30.), 'alpha0': 0.2,\n",
    "                    'muz': np.log(100), 'lnsigz': np.log(4.)})\n",
    "mod(p0)"
   ]
  },
  {
   "cell_type": "code",
   "execution_count": null,
   "metadata": {},
   "outputs": [],
   "source": [
    "zgrid = np.linspace(mod._zlim[0], mod._zlim[1], 252)\n",
    "egrid = np.linspace(0, 1, 256)\n",
    "zz, ee = np.meshgrid(zgrid, egrid)\n",
    "lnval_init = np.sum(mod.ln_ze_dens(mod.unpack_pars(p0), ee, zz), axis=0)\n",
    "\n",
    "fig, ax = plt.subplots(1, 1, figsize=(5, 5))\n",
    "ax.pcolormesh(zz, ee, np.exp(lnval_init))\n",
    "fig.tight_layout()"
   ]
  },
  {
   "cell_type": "markdown",
   "metadata": {},
   "source": [
    "---"
   ]
  },
  {
   "cell_type": "code",
   "execution_count": null,
   "metadata": {},
   "outputs": [],
   "source": [
    "res = minimize(lambda *args: -mod(*args), x0=p0, method='powell')"
   ]
  },
  {
   "cell_type": "code",
   "execution_count": null,
   "metadata": {},
   "outputs": [],
   "source": [
    "mod.unpack_pars(res.x)"
   ]
  },
  {
   "cell_type": "code",
   "execution_count": null,
   "metadata": {},
   "outputs": [],
   "source": [
    "lnval_fit = np.sum(mod.ln_ze_dens(mod.unpack_pars(res.x), ee, zz), axis=0)\n",
    "\n",
    "fig, axes = plt.subplots(1, 2, figsize=(10, 5))\n",
    "axes[0].pcolormesh(zz, ee, lnval_fit)\n",
    "axes[1].pcolormesh(zz, ee, np.exp(lnval_fit))\n",
    "\n",
    "axes[0].set_xlabel(r'$\\ln P$')\n",
    "axes[0].set_ylabel(r'$e$')\n",
    "axes[1].set_xlabel(r'$z = \\ln P$')\n",
    "\n",
    "axes[0].set_title(r'$\\ln P(e, z)$')\n",
    "axes[1].set_title(r'$P(e, z)$')\n",
    "\n",
    "fig.tight_layout()"
   ]
  },
  {
   "cell_type": "code",
   "execution_count": null,
   "metadata": {},
   "outputs": [],
   "source": [
    "lnval_fit = np.sum(mod.ln_ze_dens(mod.unpack_pars(res.x), ee, zz), axis=0)\n",
    "\n",
    "fig, axes = plt.subplots(1, 2, figsize=(10, 5))\n",
    "axes[0].pcolormesh(zz, ee, lnval_fit)\n",
    "axes[1].pcolormesh(zz, ee, np.exp(lnval_fit))\n",
    "\n",
    "axes[0].set_xlabel(r'$\\ln P$')\n",
    "axes[0].set_ylabel(r'$e$')\n",
    "axes[1].set_xlabel(r'$z = \\ln P$')\n",
    "\n",
    "axes[0].set_title(r'$\\ln P(e, z)$')\n",
    "axes[1].set_title(r'$P(e, z)$')\n",
    "\n",
    "fig.tight_layout()"
   ]
  },
  {
   "cell_type": "code",
   "execution_count": null,
   "metadata": {},
   "outputs": [],
   "source": [
    "e_lnw, z_lnw = mod.get_lnweights(mod.unpack_pars(res.x))\n",
    "\n",
    "e_w = np.exp(e_lnw)\n",
    "z_w = np.exp(z_lnw)\n",
    "\n",
    "wi = e_w / np.sum(e_w, axis=1)[:, None]\n",
    "K_eff_e = 1 / np.sum(wi**2, axis=1)\n",
    "\n",
    "wi = z_w / np.sum(z_w, axis=1)[:, None]\n",
    "K_eff_z = 1 / np.sum(wi**2, axis=1)"
   ]
  },
  {
   "cell_type": "code",
   "execution_count": null,
   "metadata": {},
   "outputs": [],
   "source": [
    "fig = plt.figure()\n",
    "plt.hist(K_eff_e)\n",
    "plt.xlabel('effective sample size')\n",
    "fig.set_facecolor('w')"
   ]
  },
  {
   "cell_type": "markdown",
   "metadata": {},
   "source": [
    "---"
   ]
  },
  {
   "cell_type": "code",
   "execution_count": null,
   "metadata": {},
   "outputs": [],
   "source": [
    "nparams = len(res.x)\n",
    "nwalkers = 8 * nparams\n",
    "all_p0 = emcee.utils.sample_ball(p0, [1e-3] * nparams, size=nwalkers)\n",
    "nwalkers"
   ]
  },
  {
   "cell_type": "code",
   "execution_count": null,
   "metadata": {},
   "outputs": [],
   "source": [
    "sampler = emcee.EnsembleSampler(nwalkers=nwalkers, \n",
    "                                ndim=nparams, \n",
    "                                log_prob_fn=mod)\n",
    "_ = sampler.run_mcmc(all_p0, 512, progress=True)"
   ]
  },
  {
   "cell_type": "code",
   "execution_count": null,
   "metadata": {},
   "outputs": [],
   "source": [
    "fig, axes = plt.subplots(nparams, 1, figsize=(8, 4*nparams), \n",
    "                         sharex=True)\n",
    "\n",
    "for k in range(sampler.chain.shape[-1]):\n",
    "    for walker in sampler.chain[..., k]:\n",
    "        axes[k].plot(walker, marker='', \n",
    "                     drawstyle='steps-mid', alpha=0.4, color='k')        \n",
    "fig.tight_layout()"
   ]
  },
  {
   "cell_type": "code",
   "execution_count": null,
   "metadata": {},
   "outputs": [],
   "source": [
    "pp = mod.unpack_pars(sampler.chain[0, -1])"
   ]
  },
  {
   "cell_type": "code",
   "execution_count": null,
   "metadata": {},
   "outputs": [],
   "source": [
    "zgrid = np.linspace(mod._zlim[0], mod._zlim[1], 252)\n",
    "egrid = np.linspace(0, 1, 256)\n",
    "zz, ee = np.meshgrid(zgrid, egrid)\n",
    "\n",
    "lnval_init = np.sum(mod.ln_ze_dens(mod.unpack_pars(p0), ee, zz), axis=0)\n",
    "lnval_min = np.sum(mod.ln_ze_dens(mod.unpack_pars(res.x), ee, zz), axis=0)\n",
    "lnval_emcee = np.sum(mod.ln_ze_dens(pp, ee, zz), axis=0)"
   ]
  },
  {
   "cell_type": "code",
   "execution_count": null,
   "metadata": {},
   "outputs": [],
   "source": [
    "fig, axes = plt.subplots(1, 3, figsize=(15, 5), sharex=True, sharey=True)\n",
    "axes[0].pcolormesh(zz, ee, lnval_init)\n",
    "axes[1].pcolormesh(zz, ee, lnval_min)\n",
    "axes[2].pcolormesh(zz, ee, lnval_emcee)\n",
    "fig.tight_layout()\n",
    "\n",
    "fig, axes = plt.subplots(1, 3, figsize=(15, 5), sharex=True, sharey=True)\n",
    "axes[0].pcolormesh(zz, ee, np.exp(lnval_init))\n",
    "axes[1].pcolormesh(zz, ee, np.exp(lnval_min))\n",
    "axes[2].pcolormesh(zz, ee, np.exp(lnval_emcee))\n",
    "fig.tight_layout()"
   ]
  },
  {
   "cell_type": "code",
   "execution_count": null,
   "metadata": {},
   "outputs": [],
   "source": [
    "fig, ax = plt.subplots(1, 1, figsize=(5, 5))\n",
    "# ax.plot(ez_samples[1].T, ez_samples[0].T, \n",
    "ax.plot(ez_samples[1, :, 0], ez_samples[0, :, 0], \n",
    "        marker='o', ls='none', alpha=0.4);\n",
    "ax.set_xlim(zgrid.min(), zgrid.max())\n",
    "ax.set_ylim(0, 1)"
   ]
  },
  {
   "cell_type": "code",
   "execution_count": null,
   "metadata": {},
   "outputs": [],
   "source": []
  },
  {
   "cell_type": "code",
   "execution_count": null,
   "metadata": {},
   "outputs": [],
   "source": []
  },
  {
   "cell_type": "code",
   "execution_count": null,
   "metadata": {},
   "outputs": [],
   "source": []
  }
 ],
 "metadata": {
  "kernelspec": {
   "display_name": "conda-hq",
   "language": "python",
   "name": "conda-hq"
  },
  "language_info": {
   "codemirror_mode": {
    "name": "ipython",
    "version": 3
   },
   "file_extension": ".py",
   "mimetype": "text/x-python",
   "name": "python",
   "nbconvert_exporter": "python",
   "pygments_lexer": "ipython3",
   "version": "3.6.7"
  }
 },
 "nbformat": 4,
 "nbformat_minor": 2
}
