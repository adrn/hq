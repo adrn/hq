{
 "cells": [
  {
   "cell_type": "markdown",
   "metadata": {},
   "source": [
    "## Summary of VAC files\n",
    "\n",
    "* `thejoker-samples.hdf5`: This file contains the output rom The Joker samplings. The keys in the file are the `APOGEE_ID` values. Under each key are datasets that contain the sample values, e.g., `P` for period, `e` for eccentricity, etc., along with the log-likelihood and log-prior values of each sample.\n",
    "* `thejoker-metadata.fits`: This file contains summary information and metadata about The Joker samplings in `thejoker-samples.hdf5`. For example, this contains the maximum a posteriori (MAP) sample values, and some computed statistics (like phase-coverage).\n",
    "* `emcee-metadata.fits`: This file contains summary information from running `emcee` to generate standard MCMC samplings for sources that return unimodal samplings from The Joker. \n",
    "* `constant-fit.fits `: This file contains the maximum likelihood values from fitting a constant velocity model to each source's visit RV data."
   ]
  },
  {
   "cell_type": "code",
   "execution_count": null,
   "metadata": {},
   "outputs": [],
   "source": [
    "from os import path\n",
    "import os\n",
    "\n",
    "import astropy.coordinates as coord\n",
    "from astropy.constants import G\n",
    "from astropy.table import Table, QTable, join\n",
    "import astropy.units as u\n",
    "import h5py\n",
    "import matplotlib as mpl\n",
    "import matplotlib.pyplot as plt\n",
    "%matplotlib inline\n",
    "import numpy as np\n",
    "from tqdm import tqdm\n",
    "\n",
    "from hq.config import config_to_jokerparams\n",
    "from hq.plot import plot_two_panel, plot_phase_fold\n",
    "from hq.data import get_rvdata\n",
    "\n",
    "from thejoker.plot import plot_rv_curves\n",
    "from thejoker import JokerSamples, JokerParams, TheJoker\n",
    "\n",
    "from twobody.transforms import get_m2_min"
   ]
  },
  {
   "cell_type": "markdown",
   "metadata": {},
   "source": [
    "Modify this to point to the path where you downloaded the VAC data products:"
   ]
  },
  {
   "cell_type": "code",
   "execution_count": null,
   "metadata": {},
   "outputs": [],
   "source": [
    "data_path = path.abspath('../cache/dr16-beta-demo/')\n",
    "poly_trend = 1 #a config setting from the run - keep this set to 1"
   ]
  },
  {
   "cell_type": "markdown",
   "metadata": {},
   "source": [
    "Load the allStar and allVisit files for DR16 beta - again, you might need to modify this to point to the location where you downloaded the DR16 beta files:"
   ]
  },
  {
   "cell_type": "code",
   "execution_count": null,
   "metadata": {},
   "outputs": [],
   "source": [
    "allstar = Table.read('../data/allStar-r12-l33beta.fits')\n",
    "allvisit = Table.read('../data/allVisit-r12-l33beta.fits')"
   ]
  },
  {
   "cell_type": "markdown",
   "metadata": {},
   "source": [
    "Load the metadata tables and join to the results from fitting the constant velocity model to the visit RV data:"
   ]
  },
  {
   "cell_type": "code",
   "execution_count": null,
   "metadata": {},
   "outputs": [],
   "source": [
    "meta = QTable.read(path.join(data_path, 'thejoker-metadata.fits'))\n",
    "\n",
    "const = Table.read(path.join(data_path, 'constant-fit.fits'))\n",
    "meta = join(meta, const, keys='APOGEE_ID')\n",
    "\n",
    "# Retrieve only unique APOGEE_IDs from the metadata file:\n",
    "_, idx = np.unique(meta['APOGEE_ID'], return_index=True)\n",
    "meta = meta[idx]\n",
    "len(meta)"
   ]
  },
  {
   "cell_type": "markdown",
   "metadata": {},
   "source": [
    "The metadata table now contains a number of columns that might be useful to filtering out interesting systems. \n",
    "\n",
    "### Data model: thejoker-metadata.fits\n",
    "\n",
    "The first column in the `meta` table is the APOGEE_ID of each source. \n",
    "\n",
    "The next several columns are the maximum a posteriori (MAP) values of the Keplerian orbital parameters for each source. For very unconstrained orbital parameters, these values aren't too useful, but for sources with many visits this is a good initial guess for the true orbital parameter values.\n",
    "\n",
    "Mixed in the above is the log-likelihood, `ln_likelihood`, value compued for the MAP sample, `MAP_ln_likelihood`.\n",
    "\n",
    "Next is a boolean column, `joker_completed`, that specifies whether the sampling with The Joker returned the number of samples we requested (256): If The Joker returned 256 samples, then a source is considered \"completed\" by The Joker and it has a `True` value in this column. More on this later.\n",
    "\n",
    "The next few columns are statistics computed from the MAP sample value:\n",
    "- `max_phase_gap` folds the visit RV curve on the MAP period and computes the largest gap in phase coverage\n",
    "- `periods_spanned` is the number of MAP periods spanned (end to end) for the visits\n",
    "- `phase_coverage` is computed by binning the phase values of the data, folded on the MAP period, i.e., the number of bins with >= 1 data point (bin width = 0.1 in phase).\n",
    "\n",
    "`n_visits` is the number of visits for a given source that passed the quality cuts used for this catalog.\n",
    "\n",
    "`unimodal` indicates whether the sampling returned by The Joker is unimodal in period or not. If this column is `True`, standard MCMC (with `emcee`) was then run to improve the orbital parameter samplings and you should use the emcee metadata file instead - more on that soon.\n",
    "\n",
    "The last few columns -- `constant_ln_likelihood`, `robust_constant_ln_likelihood` -- contain the maximum likelihood values from fitting a constant RV model, and a robust (i.e., with an outlier model) constant RV model to the data. This column can be used with `MAP_ln_likelihood` as a way to select out probable binaries, i.e., by doing a likelihood ratio cut. More on that below.\n",
    "\n",
    "Other columns can be ignored."
   ]
  },
  {
   "cell_type": "code",
   "execution_count": null,
   "metadata": {},
   "outputs": [],
   "source": [
    "meta"
   ]
  },
  {
   "cell_type": "markdown",
   "metadata": {},
   "source": [
    "We can now join the metadata table with the allstar table to have access to the APOGEE data along side The Joker sampling information:"
   ]
  },
  {
   "cell_type": "code",
   "execution_count": null,
   "metadata": {},
   "outputs": [],
   "source": [
    "# allStar table and \n",
    "meta = join(meta, allstar, keys='APOGEE_ID')"
   ]
  },
  {
   "cell_type": "markdown",
   "metadata": {},
   "source": [
    "To select out probably binaries or multiple systems, we can make a cut on the log-likelihood ratio of comparing The Joker samplings to the robust constant model fit to the data. First, we compute the log-likelihood ratio (`llr`):"
   ]
  },
  {
   "cell_type": "code",
   "execution_count": null,
   "metadata": {},
   "outputs": [],
   "source": [
    "llr = meta['max_unmarginalized_ln_likelihood'] - meta['robust_constant_ln_likelihood']"
   ]
  },
  {
   "cell_type": "markdown",
   "metadata": {},
   "source": [
    "Let's look at a histogram of the `llr` values:"
   ]
  },
  {
   "cell_type": "code",
   "execution_count": null,
   "metadata": {},
   "outputs": [],
   "source": [
    "fig, ax = plt.subplots(1, 1, figsize=(6, 4))\n",
    "bins = np.linspace(-150, 150, 128)\n",
    "ax.hist(llr, bins=bins)\n",
    "ax.set_yscale('log')\n",
    "fig.tight_layout()"
   ]
  },
  {
   "cell_type": "markdown",
   "metadata": {},
   "source": [
    "We'll now make a conservative cut on the `llr` to select probably binary systems (this cut is arbitrary! I found that going down to ~8 or so still looks pretty good, but for now let's be conservative and require a really large likelihood ratio):"
   ]
  },
  {
   "cell_type": "code",
   "execution_count": null,
   "metadata": {},
   "outputs": [],
   "source": [
    "binary_mask = llr > 16\n",
    "binary_mask.sum()"
   ]
  },
  {
   "cell_type": "markdown",
   "metadata": {},
   "source": [
    "That still returns ~8000 systems!\n",
    "\n",
    "Let's look at the RV curves and samples for a few of these systems:"
   ]
  },
  {
   "cell_type": "code",
   "execution_count": null,
   "metadata": {},
   "outputs": [],
   "source": [
    "with h5py.File(path.join(data_path, 'thejoker-samples.hdf5'), 'r') as results_f:\n",
    "    for i in np.random.choice(np.where(binary_mask)[0], size=4, replace=False):\n",
    "        star = meta[i]\n",
    "        samples = JokerSamples.from_hdf5(results_f[star['APOGEE_ID']], \n",
    "                                         poly_trend=poly_trend)\n",
    "    \n",
    "        _visits = allvisit[allvisit['APOGEE_ID'] == star['APOGEE_ID']]\n",
    "        data = get_rvdata(_visits)\n",
    "        fig = plot_two_panel(data, samples[:128], title='{}'.format(star['APOGEE_ID']))\n",
    "        fig.tight_layout()"
   ]
  },
  {
   "cell_type": "markdown",
   "metadata": {},
   "source": [
    "### Data model: emcee-metadata.fits\n",
    "\n",
    "This file is similar to the summary file `thejoker-metadata.fits`, but contains summary information from running `emcee` to complete the posterior samplings for all sources that end up with unimodal period distributions from running The Joker. The MAP orbital parameter estimates from the `emcee` runs are included in the table with names that end with `_emcee`, and each parameter also has an estimate of the uncertainty on the MAP parameter with column names that end in `_err`. This file also contains an estimate of the median Gelman-Rubin statistic, `R_med`, which provides a way to select out converged MCMC samplings (`R_med < 1.1`). We also compute the phase coverage statistics from the MAP emcee sample (e.g., `phase_coverage_emcee`, `periods_spanned_emcee`)."
   ]
  },
  {
   "cell_type": "code",
   "execution_count": null,
   "metadata": {},
   "outputs": [],
   "source": [
    "meta_emcee = QTable.read(path.join(data_path, 'emcee-metadata.fits'))\n",
    "meta_emcee = join(meta_emcee, meta, keys='APOGEE_ID', table_names=['emcee', 'joker'])\n",
    "_, idx = np.unique(meta_emcee['APOGEE_ID'], return_index=True)\n",
    "meta_emcee = meta_emcee[idx]\n",
    "llr_emcee = meta_emcee['max_unmarginalized_ln_likelihood_emcee'] - meta_emcee['robust_constant_ln_likelihood']"
   ]
  },
  {
   "cell_type": "code",
   "execution_count": null,
   "metadata": {},
   "outputs": [],
   "source": [
    "meta_emcee.colnames"
   ]
  },
  {
   "cell_type": "markdown",
   "metadata": {},
   "source": [
    "We can compute the same log-likelihood ratio from the MCMC runs as before to select out confident binary systems that have unimodal / well-determined orbital properties. Again, making a very conservative cut:"
   ]
  },
  {
   "cell_type": "code",
   "execution_count": null,
   "metadata": {},
   "outputs": [],
   "source": [
    "(llr_emcee > 16).sum()"
   ]
  },
  {
   "cell_type": "markdown",
   "metadata": {},
   "source": [
    "Let's now pick a subset with good phase coverage:"
   ]
  },
  {
   "cell_type": "code",
   "execution_count": null,
   "metadata": {},
   "outputs": [],
   "source": [
    "subset = meta_emcee[(llr_emcee > 16) & \n",
    "                    (meta_emcee['phase_coverage_per_period'] >= 4) &\n",
    "                    (meta_emcee['phase_coverage_emcee'] > 0.8) & \n",
    "                    (meta_emcee['max_unmarginalized_ln_likelihood_emcee'] > -10)]\n",
    "len(subset)"
   ]
  },
  {
   "cell_type": "markdown",
   "metadata": {},
   "source": [
    "And plot a few of these systems:"
   ]
  },
  {
   "cell_type": "code",
   "execution_count": null,
   "metadata": {},
   "outputs": [],
   "source": [
    "with h5py.File(path.join(data_path, 'thejoker-samples.hdf5'), 'r') as results_f:\n",
    "    for star in subset[:4]:\n",
    "        samples = JokerSamples.from_hdf5(results_f[star['APOGEE_ID']], \n",
    "                                         poly_trend=poly_trend)\n",
    "    \n",
    "        _visits = allvisit[allvisit['APOGEE_ID'] == star['APOGEE_ID']]\n",
    "        data = get_rvdata(_visits)\n",
    "        \n",
    "        fig, ax = plt.subplots(1, 1, figsize=(8, 5))\n",
    "        fig = plot_phase_fold(data, samples[0], ax=ax)\n",
    "        fig.tight_layout()"
   ]
  },
  {
   "cell_type": "markdown",
   "metadata": {},
   "source": [
    "Please let Adrian (adrianmpw@gmail.com) know if you encounter any surprises or issues, or have requests / suggestions."
   ]
  },
  {
   "cell_type": "code",
   "execution_count": null,
   "metadata": {},
   "outputs": [],
   "source": []
  }
 ],
 "metadata": {
  "kernelspec": {
   "display_name": "conda-hq",
   "language": "python",
   "name": "conda-hq"
  },
  "language_info": {
   "codemirror_mode": {
    "name": "ipython",
    "version": 3
   },
   "file_extension": ".py",
   "mimetype": "text/x-python",
   "name": "python",
   "nbconvert_exporter": "python",
   "pygments_lexer": "ipython3",
   "version": "3.6.7"
  }
 },
 "nbformat": 4,
 "nbformat_minor": 2
}
