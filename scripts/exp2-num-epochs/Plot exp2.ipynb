{
 "cells": [
  {
   "cell_type": "code",
   "execution_count": null,
   "metadata": {
    "collapsed": true
   },
   "outputs": [],
   "source": [
    "import pickle\n",
    "import glob\n",
    "import os\n",
    "from os import path\n",
    "from astropy.io import fits\n",
    "import astropy.units as u\n",
    "from astropy.table import Table\n",
    "from astropy.time import Time\n",
    "\n",
    "import numpy as np\n",
    "import matplotlib.pyplot as plt\n",
    "%matplotlib inline\n",
    "import h5py\n",
    "from scipy.stats import scoreatpercentile\n",
    "\n",
    "from twoface.io import load_samples"
   ]
  },
  {
   "cell_type": "code",
   "execution_count": null,
   "metadata": {
    "collapsed": true
   },
   "outputs": [],
   "source": [
    "def compute_stats(group):\n",
    "    samples = load_samples(group)\n",
    "    lnP = np.log(samples['P'].to(u.day).value)\n",
    "    pers = scoreatpercentile(lnP, [0.5, 99.5, # 99\n",
    "                                   2.5, 97.5, # 95\n",
    "                                   5, 95, # 90\n",
    "                                   17, 83, # 68\n",
    "                                   50])\n",
    "    \n",
    "    try:\n",
    "        true_lnP = np.log(group.attrs['P'])\n",
    "    except:\n",
    "        true_lnP = np.nan\n",
    "\n",
    "    return pers[1]-pers[0], pers[3]-pers[2], pers[5]-pers[4], pers[7]-pers[6], pers[-1] - true_lnP\n",
    "\n",
    "width_names = ['99th', '95th', '90th', '68th']"
   ]
  },
  {
   "cell_type": "code",
   "execution_count": null,
   "metadata": {},
   "outputs": [],
   "source": [
    "for fn in glob.glob('cache/*-128.hdf5'):\n",
    "    stats_fn = '{0}-stats.pickle'.format(path.splitext(fn)[0])\n",
    "    print(stats_fn)"
   ]
  },
  {
   "cell_type": "code",
   "execution_count": null,
   "metadata": {},
   "outputs": [],
   "source": [
    "for fn in glob.glob('cache/*-128.hdf5'):\n",
    "    ecccirc, _, loguniform, period = path.splitext(path.basename(fn))[0].split('-')\n",
    "    \n",
    "    stats_fn = '{0}-stats.pickle'.format(path.splitext(fn)[0])\n",
    "    if not path.exists(stats_fn):\n",
    "        with h5py.File(fn) as f:\n",
    "            Ns = []\n",
    "            for key in f:\n",
    "                N, _ = map(int, key.split('-'))\n",
    "                Ns.append(N)\n",
    "            Ns = np.unique(Ns)\n",
    "            NORBITS = len(f) // len(Ns)\n",
    "\n",
    "            all_stats = dict()\n",
    "            for key in f:\n",
    "                N, i = map(int, key.split('-'))\n",
    "                if N not in all_stats:\n",
    "                    all_stats[N] = np.full((NORBITS, 5), np.nan) \n",
    "                all_stats[N][i] = compute_stats(f[key])\n",
    "        \n",
    "        with open(stats_fn, 'wb') as f2:\n",
    "            pickle.dump(all_stats, f2)\n",
    "            \n",
    "    with open(stats_fn, 'rb') as f2:\n",
    "        all_stats = pickle.load(f2)\n",
    "    \n",
    "    # What to plot:\n",
    "    width_idx = (3, 1)\n",
    "\n",
    "    fig, ax = plt.subplots(1, 1, figsize=(8, 6))\n",
    "\n",
    "    for N in sorted(list(all_stats.keys())):\n",
    "        y_val = all_stats[N][:,width_idx[0]] / all_stats[N][:,width_idx[1]] - 0.5\n",
    "        ax.scatter(np.full(NORBITS, N) + np.random.uniform(-0.2, 0.2, size=NORBITS), \n",
    "                   y_val, alpha=0.25, marker='.', color='k', linewidth=0)\n",
    "\n",
    "    ax.set_xlabel('$N$ epochs')\n",
    "    ax.set_ylabel(r'\"Gaussianity\"')\n",
    "    ax.set_xlim(2.25, 12.75)\n",
    "    ax.set_ylim(-0.55, 0.55)\n",
    "    ax.xaxis.set_ticks(np.arange(3, 12+1))\n",
    "    \n",
    "    ax.axhline(0., linestyle='dashed', zorder=-100, linewidth=2, alpha=0.3, color='tab:blue')\n",
    "    \n",
    "    fig.savefig('plots/{2}-{0}-{1}.png'.format(ecccirc, loguniform, period), dpi=256)\n",
    "    del fig"
   ]
  },
  {
   "cell_type": "code",
   "execution_count": null,
   "metadata": {},
   "outputs": [],
   "source": [
    "# with h5py.File('cache/circ-samples-uniform-128.hdf5') as f:\n",
    "#     Ns = []\n",
    "#     for key in f:\n",
    "#         N, _ = map(int, key.split('-'))\n",
    "#         Ns.append(N)\n",
    "#     Ns = np.unique(Ns)\n",
    "#     NORBITS = len(f) // len(Ns)\n",
    "        \n",
    "#     all_stats = dict()\n",
    "#     for key in f:\n",
    "#         N, i = map(int, key.split('-'))\n",
    "#         if N not in all_stats:\n",
    "#             all_stats[N] = np.full((NORBITS, 5), np.nan) \n",
    "#         all_stats[N][i] = compute_stats(f[key])"
   ]
  },
  {
   "cell_type": "code",
   "execution_count": null,
   "metadata": {},
   "outputs": [],
   "source": [
    "fig, ax = plt.subplots(1, 1, figsize=(8, 6))\n",
    "\n",
    "for N in sorted(list(all_stats.keys())):\n",
    "    y_val = np.abs(all_stats[N][:,-1])\n",
    "    c_val = all_stats[N][:,width_idx[0]] / all_stats[N][:,width_idx[1]]\n",
    "    plt.scatter(np.full(NORBITS, N) + np.random.uniform(-0.2, 0.2, size=NORBITS), \n",
    "                y_val, alpha=0.25, marker='.', c=np.log10(c_val),\n",
    "                vmin=-1, vmax=0)\n",
    "\n",
    "# plt.ylim(-0.05, 1.)\n",
    "plt.xlabel('$N$ epochs')\n",
    "plt.ylabel(r'$\\epsilon_{\\ln P}$')"
   ]
  },
  {
   "cell_type": "markdown",
   "metadata": {},
   "source": [
    "---"
   ]
  },
  {
   "cell_type": "code",
   "execution_count": null,
   "metadata": {
    "collapsed": true
   },
   "outputs": [],
   "source": [
    "with h5py.File('cache/circ-samples-uniform-128.hdf5') as f:\n",
    "    Ns = []\n",
    "    for key in f:\n",
    "        N, _ = map(int, key.split('-'))\n",
    "        Ns.append(N)\n",
    "    Ns = np.unique(Ns)\n",
    "    NORBITS = len(f) // len(Ns)\n",
    "        \n",
    "    all_stats = dict()\n",
    "    for key in f:\n",
    "        N, i = map(int, key.split('-'))\n",
    "        if N not in all_stats:\n",
    "            all_stats[N] = np.full((NORBITS, 5), np.nan) \n",
    "        all_stats[N][i] = compute_stats(f[key])"
   ]
  },
  {
   "cell_type": "code",
   "execution_count": null,
   "metadata": {},
   "outputs": [],
   "source": [
    "_y = all_stats[10][:, 3] / all_stats[10][:, 1]\n",
    "np.where(np.abs(_y - 1.) < 0.05)"
   ]
  },
  {
   "cell_type": "code",
   "execution_count": null,
   "metadata": {
    "collapsed": true
   },
   "outputs": [],
   "source": [
    "with h5py.File('cache/circ-samples-uniform-128.hdf5') as f:\n",
    "    samples = load_samples(f['10-12'])\n",
    "    \n",
    "plt.hist(np.log(samples['P'].to(u.day).value), bins=64);\n",
    "plt.xlabel(r'$\\ln P$')\n",
    "plt.ylabel('$N$ samples')\n",
    "plt.tight_layout()\n",
    "plt.savefig('plots/lnP_high_68_90.png', dpi=256)"
   ]
  },
  {
   "cell_type": "code",
   "execution_count": null,
   "metadata": {},
   "outputs": [],
   "source": [
    "with h5py.File('cache/circ-samples-uniform-128.hdf5') as f:\n",
    "    samples = load_samples(f['7-6'])\n",
    "    \n",
    "plt.hist(np.log(samples['P'].to(u.day).value), bins=64);\n",
    "plt.xlabel(r'$\\ln P$')\n",
    "plt.ylabel('$N$ samples')\n",
    "plt.tight_layout()\n",
    "plt.savefig('plots/lnP_low_68_90.png', dpi=256)"
   ]
  },
  {
   "cell_type": "markdown",
   "metadata": {},
   "source": [
    "---"
   ]
  },
  {
   "cell_type": "code",
   "execution_count": null,
   "metadata": {
    "collapsed": true
   },
   "outputs": [],
   "source": [
    "from thejoker import JokerParams, TheJoker, RVData\n",
    "from thejoker.plot import plot_rv_curves\n",
    "from twobody import KeplerOrbit"
   ]
  },
  {
   "cell_type": "code",
   "execution_count": null,
   "metadata": {
    "collapsed": true
   },
   "outputs": [],
   "source": [
    "orb = KeplerOrbit(P=150*u.day, e=0.35, M0=35*u.deg, omega=92*u.deg)"
   ]
  },
  {
   "cell_type": "code",
   "execution_count": null,
   "metadata": {
    "collapsed": true
   },
   "outputs": [],
   "source": [
    "np.random.seed(42)\n",
    "\n",
    "t0 = Time('2013-01-01')\n",
    "baseline = 2 * u.yr # similar to APOGEE2\n",
    "\n",
    "K = 2 * u.km/u.s\n",
    "err = 150 * u.m/u.s\n",
    "\n",
    "size = 10\n",
    "t = Time(np.random.uniform(t0.mjd, (t0 + baseline).mjd, size=size), format='mjd')\n",
    "t = t[np.argsort(t.mjd)]\n",
    "\n",
    "rv = K * orb.unscaled_radial_velocity(t)\n",
    "data = RVData(t=t, rv=rv, stddev=np.ones_like(rv.value) * err)"
   ]
  },
  {
   "cell_type": "code",
   "execution_count": null,
   "metadata": {},
   "outputs": [],
   "source": [
    "_ = data.plot()"
   ]
  },
  {
   "cell_type": "code",
   "execution_count": null,
   "metadata": {
    "collapsed": true
   },
   "outputs": [],
   "source": [
    "pars = JokerParams(P_min=8*u.day, P_max=1024*u.day)\n",
    "joker = TheJoker(pars)"
   ]
  },
  {
   "cell_type": "code",
   "execution_count": null,
   "metadata": {
    "collapsed": true
   },
   "outputs": [],
   "source": [
    "dt = data.t.mjd.max() - data.t.mjd.min()\n",
    "t_grid = Time(np.linspace(data.t.mjd.min()-dt/8., data.t.mjd.max()+dt/4, 4096), format='mjd')"
   ]
  },
  {
   "cell_type": "code",
   "execution_count": null,
   "metadata": {},
   "outputs": [],
   "source": [
    "idx = np.arange(len(data))\n",
    "\n",
    "xlims = (t_grid.mjd.min(), t_grid.mjd.max())\n",
    "_rv = data.rv.to(u.km/u.s).value\n",
    "h = np.ptp(_rv)\n",
    "ylims = (_rv.min()-2*h, _rv.max()+2*h)\n",
    "\n",
    "for i in range(len(idx)-3):\n",
    "    print(idx)\n",
    "    _data = data[idx]\n",
    "    samples = joker.iterative_rejection_sample(_data, n_requested_samples=128, \n",
    "                                               n_prior_samples=1000000)\n",
    "    \n",
    "    fig, ax = plt.subplots(1, 1, figsize=(8, 6))\n",
    "    plot_kwargs = dict(color='#aaaaaa', alpha=0.25, linewidth=0.5)\n",
    "    fig = plot_rv_curves(samples, t_grid=t_grid, n_plot=128, \n",
    "                         plot_kwargs=plot_kwargs, ax=ax)\n",
    "    \n",
    "    # Darken the shortest period sample\n",
    "    dark_style = dict(color='#333333', alpha=0.5, linewidth=0.5, zorder=10)\n",
    "\n",
    "    P_min_samples = samples[samples['P'].argmin()]\n",
    "    plot_rv_curves(P_min_samples, t_grid, rv_unit=u.km/u.s, ax=ax,\n",
    "                   n_plot=1, plot_kwargs=dark_style)\n",
    "\n",
    "    # Darken the longest period sample\n",
    "    P_max_samples = samples[samples['P'].argmax()]\n",
    "    plot_rv_curves(P_max_samples, t_grid, rv_unit=u.km/u.s, ax=ax,\n",
    "                   n_plot=1, plot_kwargs=dark_style)\n",
    "    \n",
    "    _ = _data.plot(ax=fig.axes[0], marker='.')\n",
    "    \n",
    "    fig.axes[0].set_xlim(xlims)\n",
    "    fig.axes[0].set_ylim(ylims)\n",
    "    \n",
    "    fig.tight_layout()\n",
    "    fig.savefig('plots/{0}-orbits.png'.format(i), dpi=256)\n",
    "    \n",
    "    fig, ax = plt.subplots(1, 1, figsize=(6, 6))\n",
    "    ax.scatter(samples['P'].to(u.day).value, samples['e'], \n",
    "               marker='.', alpha=0.5, linewidth=0)\n",
    "    ax.set_xscale('log')\n",
    "    ax.set_xlim(1, 1024)\n",
    "    ax.set_ylim(0, 1)\n",
    "    ax.set_xlabel('period, $P$ [day]')\n",
    "    ax.set_ylabel('eccentricity, $e$')\n",
    "    fig.tight_layout()\n",
    "    fig.savefig('plots/{0}-samples.png'.format(i), dpi=256)\n",
    "    \n",
    "    idx = np.delete(idx, np.random.randint(len(idx)))"
   ]
  },
  {
   "cell_type": "code",
   "execution_count": null,
   "metadata": {},
   "outputs": [],
   "source": [
    "print(idx)\n",
    "i = 7\n",
    "_data = data[idx]\n",
    "samples = joker.iterative_rejection_sample(_data, n_requested_samples=128, \n",
    "                                           n_prior_samples=1000000)\n",
    "\n",
    "fig, ax = plt.subplots(1, 1, figsize=(8, 6))\n",
    "plot_kwargs = dict(color='#aaaaaa', alpha=0.25, linewidth=0.5)\n",
    "fig = plot_rv_curves(samples, t_grid=t_grid, n_plot=128, \n",
    "                     plot_kwargs=plot_kwargs, ax=ax)\n",
    "\n",
    "# Darken the shortest period sample\n",
    "dark_style = dict(color='#333333', alpha=0.5, linewidth=0.5, zorder=10)\n",
    "\n",
    "P_min_samples = samples[samples['P'].argmin()]\n",
    "plot_rv_curves(P_min_samples, t_grid, rv_unit=u.km/u.s, ax=ax,\n",
    "               n_plot=1, plot_kwargs=dark_style)\n",
    "\n",
    "# Darken the longest period sample\n",
    "P_max_samples = samples[samples['P'].argmax()]\n",
    "plot_rv_curves(P_max_samples, t_grid, rv_unit=u.km/u.s, ax=ax,\n",
    "               n_plot=1, plot_kwargs=dark_style)\n",
    "\n",
    "_ = _data.plot(ax=fig.axes[0], marker='.')\n",
    "\n",
    "fig.axes[0].set_xlim(xlims)\n",
    "fig.axes[0].set_ylim(ylims)\n",
    "\n",
    "fig.tight_layout()\n",
    "fig.savefig('plots/{0}-orbits.png'.format(i), dpi=256)\n",
    "\n",
    "fig, ax = plt.subplots(1, 1, figsize=(6, 6))\n",
    "ax.scatter(samples['P'].to(u.day).value, samples['e'], \n",
    "           marker='.', alpha=0.5, linewidth=0)\n",
    "ax.set_xscale('log')\n",
    "ax.set_xlim(1, 1024)\n",
    "ax.set_ylim(0, 1)\n",
    "ax.set_xlabel('period, $P$ [day]')\n",
    "ax.set_ylabel('eccentricity, $e$')\n",
    "fig.tight_layout()\n",
    "fig.savefig('plots/{0}-samples.png'.format(i), dpi=256)"
   ]
  },
  {
   "cell_type": "code",
   "execution_count": null,
   "metadata": {
    "collapsed": true
   },
   "outputs": [],
   "source": []
  },
  {
   "cell_type": "code",
   "execution_count": null,
   "metadata": {
    "collapsed": true
   },
   "outputs": [],
   "source": []
  },
  {
   "cell_type": "code",
   "execution_count": null,
   "metadata": {},
   "outputs": [],
   "source": [
    "fig, axes = plt.subplots(2, 5, figsize=(12, 4.8), sharex=True, sharey=True)\n",
    "\n",
    "for i, N in enumerate(sorted(list(all_stats.keys()))):\n",
    "    if i > len(axes.flat)-1: break\n",
    "        \n",
    "    axes.flat[i].scatter(all_stats[N][:,1], all_stats[N][:,2], alpha=0.1, marker='.')\n",
    "\n",
    "fig.tight_layout()"
   ]
  },
  {
   "cell_type": "code",
   "execution_count": null,
   "metadata": {
    "collapsed": true
   },
   "outputs": [],
   "source": []
  }
 ],
 "metadata": {
  "kernelspec": {
   "display_name": "Python [conda env:twoface-new]",
   "language": "python",
   "name": "conda-env-twoface-new-py"
  },
  "language_info": {
   "codemirror_mode": {
    "name": "ipython",
    "version": 3
   },
   "file_extension": ".py",
   "mimetype": "text/x-python",
   "name": "python",
   "nbconvert_exporter": "python",
   "pygments_lexer": "ipython3",
   "version": "3.6.2"
  }
 },
 "nbformat": 4,
 "nbformat_minor": 2
}